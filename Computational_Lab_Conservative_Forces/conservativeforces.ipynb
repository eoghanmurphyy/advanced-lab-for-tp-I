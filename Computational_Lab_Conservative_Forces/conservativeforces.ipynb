{
 "cells": [
  {
   "cell_type": "code",
   "execution_count": null,
   "metadata": {},
   "outputs": [],
   "source": [
    "import numpy as np\n",
    "import matplotlib.pyplot as plt\n",
    "import scipy\n",
    "import time"
   ]
  },
  {
   "cell_type": "markdown",
   "metadata": {},
   "source": [
    "## Question 1"
   ]
  },
  {
   "cell_type": "code",
   "execution_count": null,
   "metadata": {},
   "outputs": [],
   "source": [
    "# Defining functions for lab\n",
    "\n",
    "def KE(v, m):\n",
    "    return (0.5) * m * (v ** 2)\n",
    "\n",
    "def F(k, x, q):\n",
    "    return k*x - 4*q*(x ** 3)\n",
    "\n",
    "def U(k, x, q):\n",
    "    return (-0.5) * k * (x ** 2) + q * (x ** 4)\n",
    "\n",
    "def vf(vi, m, Fi, dt):\n",
    "    return vi + ((1/m) * Fi * dt)\n",
    "\n",
    "def xf(xi, vf, dt):\n",
    "    return xi + vf * dt"
   ]
  },
  {
   "cell_type": "code",
   "execution_count": null,
   "metadata": {},
   "outputs": [],
   "source": [
    "m = 1\n",
    "k = 1\n",
    "q = 0.1\n",
    "dt = 1e-3\n",
    "vi = v0 = 0\n",
    "\n",
    "\n",
    "def Euler_Cromer(Iterations, m, k, q, dt, v0, xi):\n",
    "    vi = v0\n",
    "    Forces = []\n",
    "    positions = []\n",
    "    velocities = []\n",
    "    times = []\n",
    "    time = 0\n",
    "    while time < Iterations:\n",
    "        Fi = F(k, xi, q)\n",
    "        vfin = vf(vi, m, Fi, dt)\n",
    "        xfin = xf(xi, vfin, dt)\n",
    "        Forces.append(Fi)\n",
    "        positions.append(xfin)\n",
    "        velocities.append(vfin)\n",
    "        times.append(time)\n",
    "        xi = xfin\n",
    "        vi = vfin\n",
    "        time = time + dt \n",
    "    positions = np.array(positions)\n",
    "    velocities = np.array(velocities)\n",
    "    Forces = np.array(Forces)\n",
    "    result = positions, velocities, Forces, times\n",
    "    return result"
   ]
  },
  {
   "cell_type": "code",
   "execution_count": null,
   "metadata": {},
   "outputs": [],
   "source": [
    "a = Euler_Cromer(15, m=1, k=1, q=0.1, dt=1e-3, v0=0, xi=0.1)\n",
    "KE1 = np.array(KE(a[1], m))\n",
    "PE1 = np.array(U(k, a[0], q))\n",
    "\n",
    "plt.plot(a[3], KE1, color = 'red', label = 'Kinetic Energy')\n",
    "plt.plot(a[3], PE1, color='cyan', label='Potential Energy')\n",
    "# plt.title('Plot of Kinetic and Potential energy of the system varying over time')\n",
    "plt.xlabel('Time (s)')\n",
    "plt.ylabel('Energy (J)')\n",
    "plt.legend()\n",
    "plt.savefig('Q1.jpg')"
   ]
  },
  {
   "cell_type": "code",
   "execution_count": null,
   "metadata": {},
   "outputs": [],
   "source": [
    "## Picking the Correct dt: the best trade off between results and time taken\n",
    "\n",
    "dtarray = [1e-1, 1e-2, 1e-3, 1e-4, 1e-5]\n",
    "indiceslengths = [150, 1500, 15000, 150000, 1500000]\n",
    "\n",
    "# adjusting scale of indices:\n",
    "\n",
    "\n",
    "for i, j  in zip(dtarray, indiceslengths):\n",
    "    Starttime = time.perf_counter()\n",
    "    a = Euler_Cromer(15, m, k, q, i, v0, xi=1e-3)\n",
    "    Endtime = time.perf_counter()\n",
    "    elapsed_time = Endtime - Starttime\n",
    "    x = a[1]\n",
    "    x = np.delete(x, 0)\n",
    "    print(len(x))\n",
    "    xindex = j * (17/30)\n",
    "    # print(xindex)\n",
    "    print('KE at', i, ':', KE(x[int(xindex)], m))\n",
    "    print(f'Function took {elapsed_time} secs to execute.')\n",
    "    print()"
   ]
  },
  {
   "cell_type": "markdown",
   "metadata": {},
   "source": [
    "#### From this we can see that 0.001 is the best choice in terms of accuracy of results and time trade off"
   ]
  },
  {
   "cell_type": "markdown",
   "metadata": {},
   "source": [
    "## Question 2"
   ]
  },
  {
   "cell_type": "code",
   "execution_count": null,
   "metadata": {},
   "outputs": [],
   "source": [
    "a = Euler_Cromer(15, m, k, q, dt, v0, xi=1e-3)\n",
    "KE2 = np.array(KE(a[1], m))\n",
    "PE2 = np.array(U(k, a[0], q))\n",
    "\n",
    "plt.plot(a[3], KE2, color = 'red', label = 'Kinetic Energy')\n",
    "plt.plot(a[3], PE2, color='cyan', label='Potential Energy')\n",
    "# plt.title('Plot of Kinetic and Potential energy of the system varying over time')\n",
    "plt.xlabel('Time (s)')\n",
    "plt.ylabel('Energy (J)')\n",
    "plt.legend()\n",
    "plt.savefig('Q2-1e-3.jpg')"
   ]
  },
  {
   "cell_type": "code",
   "execution_count": null,
   "metadata": {},
   "outputs": [],
   "source": [
    "a = Euler_Cromer(15, m, k, q, dt, v0, xi=0.01)\n",
    "KE3 = np.array(KE(a[1], m))\n",
    "PE3 = np.array(U(k, a[0], q))\n",
    "\n",
    "plt.plot(a[3], KE3, color = 'red', label = 'Kinetic Energy')\n",
    "plt.plot(a[3], PE3, color='cyan', label='Potential Energy')\n",
    "# plt.title('Plot of Kinetic and Potential energy of the system varying over time')\n",
    "plt.xlabel('Time (s)')\n",
    "plt.ylabel('Energy (J)')\n",
    "plt.legend()\n",
    "plt.savefig('Q2-0.01.jpg')"
   ]
  },
  {
   "cell_type": "code",
   "execution_count": null,
   "metadata": {},
   "outputs": [],
   "source": [
    "a = Euler_Cromer(20, m, k, q, dt, v0, xi=0.1)\n",
    "KE4 = np.array(KE(a[1], m))\n",
    "PE4 = np.array(U(k, a[0], q))\n",
    "\n",
    "plt.plot(a[3], KE4, color = 'red', label = 'Kinetic Energy')\n",
    "plt.plot(a[3], PE4, color='cyan', label='Potential Energy')\n",
    "# plt.title('Plot of Kinetic and Potential energy of the system varying over time')\n",
    "plt.xlabel('Time (s)')\n",
    "plt.ylabel('Energy (J)')\n",
    "plt.legend()\n",
    "plt.savefig('Q2-0.1.jpg')"
   ]
  },
  {
   "cell_type": "code",
   "execution_count": null,
   "metadata": {},
   "outputs": [],
   "source": [
    "a = Euler_Cromer(15, m, k, q, dt, v0, xi=1.0)\n",
    "KE5 = np.array(KE(a[1], m))\n",
    "PE5 = np.array(U(k, a[0], q))\n",
    "\n",
    "plt.plot(a[3], KE5, color = 'red', label = 'Kinetic Energy')\n",
    "plt.plot(a[3], PE5, color='cyan', label='Potential Energy')\n",
    "# plt.title('Plot of Kinetic and Potential energy of the system varying over time')\n",
    "plt.xlabel('Time (s)')\n",
    "plt.ylabel('Energy (J)')\n",
    "plt.legend()\n",
    "plt.savefig('Q2-1.0.jpg')"
   ]
  },
  {
   "cell_type": "code",
   "execution_count": null,
   "metadata": {},
   "outputs": [],
   "source": [
    "a = Euler_Cromer(15, m, k, q, dt, v0, xi=10.0)\n",
    "KE6 = np.array(KE(a[1], m))\n",
    "PE6 = np.array(U(k, a[0], q))\n",
    "\n",
    "plt.plot(a[3], KE6, color = 'red', label = 'Kinetic Energy')\n",
    "plt.plot(a[3], PE6, color='cyan', label='Potential Energy')\n",
    "# plt.title('Plot of Kinetic and Potential energy of the system varying over time')\n",
    "plt.xlim(0,5)\n",
    "plt.xlabel('Time (s)')\n",
    "plt.ylabel('Energy (J)')\n",
    "plt.legend()\n",
    "plt.savefig('Q2-10.0.jpg')\n",
    "# Spring would overshoot and break here as its potential energy is too much and the mass is not bounded."
   ]
  },
  {
   "cell_type": "markdown",
   "metadata": {},
   "source": [
    "## Question 3"
   ]
  },
  {
   "cell_type": "code",
   "execution_count": null,
   "metadata": {},
   "outputs": [],
   "source": [
    "m = 1\n",
    "k = -1\n",
    "q = 0\n",
    "dt = 1e-3\n",
    "vi = v0 = 0\n",
    "\n",
    "\n",
    "a = Euler_Cromer(15, m, k, q, dt, v0, xi=1e-3)\n",
    "KE1 = np.array(KE(a[1], m))\n",
    "PE1 = np.array(U(k, a[0], q))\n",
    "\n",
    "plt.plot(a[3], KE1, color = 'red', label = 'Kinetic Energy')\n",
    "plt.plot(a[3], PE1, color='cyan', label='Potential Energy')\n",
    "# plt.title('Plot of Kinetic and Potential energy of the system varying over time')\n",
    "plt.xlabel('Time (s)')\n",
    "plt.ylabel('Energy (J)')\n",
    "plt.legend()\n",
    "plt.savefig('Q3-1e-3.jpg')"
   ]
  },
  {
   "cell_type": "code",
   "execution_count": null,
   "metadata": {},
   "outputs": [],
   "source": [
    "a = Euler_Cromer(15, m, k, q, dt, v0, xi=0.01)\n",
    "KE1 = np.array(KE(a[1], m))\n",
    "PE1 = np.array(U(k, a[0], q))\n",
    "\n",
    "plt.plot(a[3], KE1, color = 'red', label = 'Kinetic Energy')\n",
    "plt.plot(a[3], PE1, color='cyan', label='Potential Energy')\n",
    "# plt.title('Plot of Kinetic and Potential energy of the system varying over time')\n",
    "plt.xlabel('Time (s)')\n",
    "plt.ylabel('Energy (J)')\n",
    "plt.legend()\n",
    "plt.savefig('Q3-0.01.jpg')"
   ]
  },
  {
   "cell_type": "code",
   "execution_count": null,
   "metadata": {},
   "outputs": [],
   "source": [
    "a = Euler_Cromer(15, m, k, q, dt, v0, xi=0.1)\n",
    "KE1 = np.array(KE(a[1], m))\n",
    "PE1 = np.array(U(k, a[0], q))\n",
    "\n",
    "plt.plot(a[3], KE1, color = 'red', label = 'Kinetic Energy')\n",
    "plt.plot(a[3], PE1, color='cyan', label='Potential Energy')\n",
    "# plt.title('Plot of Kinetic and Potential energy of the system varying over time')\n",
    "plt.xlabel('Time (s)')\n",
    "plt.ylabel('Energy (J)')\n",
    "plt.legend()\n",
    "plt.savefig('Q3-0.1.jpg')"
   ]
  },
  {
   "cell_type": "code",
   "execution_count": null,
   "metadata": {},
   "outputs": [],
   "source": [
    "a = Euler_Cromer(15, m, k, q, dt, v0, xi=1)\n",
    "KE1 = np.array(KE(a[1], m))\n",
    "PE1 = np.array(U(k, a[0], q))\n",
    "\n",
    "plt.plot(a[3], KE1, color = 'red', label = 'Kinetic Energy')\n",
    "plt.plot(a[3], PE1, color='cyan', label='Potential Energy')\n",
    "# plt.title('Plot of Kinetic and Potential energy of the system varying over time')\n",
    "plt.xlabel('Time (s)')\n",
    "plt.ylabel('Energy (J)')\n",
    "plt.legend()\n",
    "plt.savefig('Q3-1.0.jpg')"
   ]
  },
  {
   "cell_type": "code",
   "execution_count": null,
   "metadata": {},
   "outputs": [],
   "source": [
    "a = Euler_Cromer(15, m, k, q, dt, v0, xi=10)\n",
    "KE1 = np.array(KE(a[1], m))\n",
    "PE1 = np.array(U(k, a[0], q))\n",
    "\n",
    "plt.plot(a[3], KE1, color = 'red', label = 'Kinetic Energy')\n",
    "plt.plot(a[3], PE1, color='cyan', label='Potential Energy')\n",
    "# plt.title('Plot of Kinetic and Potential energy of the system varying over time')\n",
    "plt.xlabel('Time (s)')\n",
    "plt.ylabel('Energy (J)')\n",
    "plt.legend()\n",
    "plt.savefig('Q3-10.0.jpg')"
   ]
  },
  {
   "cell_type": "markdown",
   "metadata": {},
   "source": [
    "## Question 4"
   ]
  },
  {
   "cell_type": "code",
   "execution_count": null,
   "metadata": {},
   "outputs": [],
   "source": [
    "m = 1\n",
    "k = -1\n",
    "q = 0\n",
    "dt = 1e-3\n",
    "vi = v0 = 0\n",
    "\n",
    "\n",
    "a = Euler_Cromer(15, m, k, q, dt, v0, xi=1e-3)\n",
    "KE1 = np.array(KE(a[1], m))\n",
    "PE1 = np.array(U(k, a[0], q))\n",
    "E = KE1 + PE1\n",
    "\n",
    "plt.plot(a[3], E, color='g', label='Total Energy of System')\n",
    "plt.plot(a[3], KE1, color = 'red', label = 'Kinetic Energy')\n",
    "plt.plot(a[3], PE1, color='cyan', label='Potential Energy')\n",
    "# plt.title('Plot of Kinetic and Potential energy of the system varying over time')\n",
    "plt.xlabel('Time (s)')\n",
    "plt.ylabel('Energy (J)')\n",
    "plt.legend()\n",
    "plt.savefig('Q4-1e-3.jpg')"
   ]
  },
  {
   "cell_type": "code",
   "execution_count": null,
   "metadata": {},
   "outputs": [],
   "source": [
    "a = Euler_Cromer(15, m, k, q, dt, v0, xi=0.01)\n",
    "KE1 = np.array(KE(a[1], m))\n",
    "PE1 = np.array(U(k, a[0], q))\n",
    "E = KE1 + PE1\n",
    "\n",
    "plt.plot(a[3], E, color='g', label='Total Energy of System')\n",
    "plt.plot(a[3], KE1, color = 'red', label = 'Kinetic Energy')\n",
    "plt.plot(a[3], PE1, color='cyan', label='Potential Energy')\n",
    "# plt.title('Plot of Kinetic and Potential energy of the system varying over time')\n",
    "plt.xlabel('Time (s)')\n",
    "plt.ylabel('Energy (J)')\n",
    "plt.legend()\n",
    "plt.savefig('Q4-0.01.jpg')"
   ]
  },
  {
   "cell_type": "code",
   "execution_count": null,
   "metadata": {},
   "outputs": [],
   "source": [
    "a = Euler_Cromer(15, m, k, q, dt, v0, xi=0.1)\n",
    "KE1 = np.array(KE(a[1], m))\n",
    "PE1 = np.array(U(k, a[0], q))\n",
    "E = KE1 + PE1\n",
    "\n",
    "plt.plot(a[3], E, color='g', label='Total Energy of System')\n",
    "plt.plot(a[3], KE1, color = 'red', label = 'Kinetic Energy')\n",
    "plt.plot(a[3], PE1, color='cyan', label='Potential Energy')\n",
    "# plt.title('Plot of Kinetic and Potential energy of the system varying over time')\n",
    "plt.xlabel('Time (s)')\n",
    "plt.ylabel('Energy (J)')\n",
    "plt.legend()\n",
    "plt.savefig('Q4-0.1.jpg')"
   ]
  },
  {
   "cell_type": "code",
   "execution_count": null,
   "metadata": {},
   "outputs": [],
   "source": [
    "a = Euler_Cromer(15, m, k, q, dt, v0, xi=1.0)\n",
    "KE1 = np.array(KE(a[1], m))\n",
    "PE1 = np.array(U(k, a[0], q))\n",
    "E = KE1 + PE1\n",
    "\n",
    "plt.plot(a[3], E, color='g', label='Total Energy of System')\n",
    "plt.plot(a[3], KE1, color = 'red', label = 'Kinetic Energy')\n",
    "plt.plot(a[3], PE1, color='cyan', label='Potential Energy')\n",
    "# plt.title('Plot of Kinetic and Potential energy of the system varying over time')\n",
    "plt.xlabel('Time (s)')\n",
    "plt.ylabel('Energy (J)')\n",
    "plt.legend()\n",
    "plt.savefig('Q4-1.0.jpg')"
   ]
  },
  {
   "cell_type": "code",
   "execution_count": null,
   "metadata": {},
   "outputs": [],
   "source": [
    "a = Euler_Cromer(15, m, k, q, dt, v0, xi=10)\n",
    "KE1 = np.array(KE(a[1], m))\n",
    "PE1 = np.array(U(k, a[0], q))\n",
    "E = KE1 + PE1\n",
    "\n",
    "plt.plot(a[3], E, color='g', label='Total Energy of System')\n",
    "plt.plot(a[3], KE1, color = 'red', label = 'Kinetic Energy')\n",
    "plt.plot(a[3], PE1, color='cyan', label='Potential Energy')\n",
    "# plt.title('Plot of Kinetic and Potential energy of the system varying over time')\n",
    "plt.xlabel('Time (s)')\n",
    "plt.ylabel('Energy (J)')\n",
    "plt.legend()\n",
    "plt.savefig('Q4-10.0.jpg')"
   ]
  },
  {
   "cell_type": "markdown",
   "metadata": {},
   "source": [
    "## Question 5 - Runge-Kutta 2 Method"
   ]
  },
  {
   "cell_type": "code",
   "execution_count": null,
   "metadata": {},
   "outputs": [],
   "source": [
    "def F(k, x, q):\n",
    "    return k*x - 4*q*(x ** 3)\n",
    "\n",
    "def vf(vi, m, Fi, dt):\n",
    "    return vi + ((1/m) * Fi * dt)\n",
    "\n",
    "def xf(xi, vf, dt):\n",
    "    return xi + vf * dt\n",
    "\n",
    "def f(x, m, k, q):\n",
    "    # x0 is position and x1 is the velocity\n",
    "    return (1/m) * (k*x - 4*q*(x ** 3))"
   ]
  },
  {
   "cell_type": "code",
   "execution_count": null,
   "metadata": {},
   "outputs": [],
   "source": [
    "m = 1\n",
    "k = -1\n",
    "q = 0\n",
    "\n",
    "def RK2(MaxTime, dt, x0, x1, m, k, q):\n",
    "    time = 0\n",
    "    positions = []\n",
    "    velocities = []\n",
    "    times = []\n",
    "    x = np.array([x0, x1])\n",
    "    \n",
    "    while time < MaxTime:\n",
    "        k1pos = dt * x[1]\n",
    "        k1vel = dt * f(x[0], m, k, q)\n",
    "\n",
    "        k2pos = dt * (x[1] + k1vel)\n",
    "        k2vel = dt * f(x[0]+ k1pos, m, k, q)\n",
    "\n",
    "        positions.append(x[0])\n",
    "        velocities.append(x[1])\n",
    "        times.append(time)\n",
    "\n",
    "        x[0] = x[0] + 0.5 * (k1pos + k2pos)\n",
    "        x[1] = x[1] + 0.5 * (k1vel + k2vel)\n",
    "\n",
    "        time = time + dt \n",
    "    positions = np.array(positions)\n",
    "    velocities = np.array(velocities)\n",
    "    times = np.array(times)\n",
    "    result = positions, velocities, times\n",
    "    return result"
   ]
  },
  {
   "cell_type": "code",
   "execution_count": null,
   "metadata": {},
   "outputs": [],
   "source": [
    "## Picking the Correct dt: the best trade off between results and time taken\n",
    "\n",
    "m = 1\n",
    "k = 1\n",
    "q = 0.1\n",
    "\n",
    "dtarray = [1e-1, 1e-2, 1e-3, 1e-4, 1e-5]\n",
    "indiceslengths = [150, 1500, 15000, 150000, 1500000]\n",
    "\n",
    "# adjusting scale of indices:\n",
    "\n",
    "\n",
    "for i, j  in zip(dtarray, indiceslengths):\n",
    "    Starttime = time.perf_counter()\n",
    "    a = RK2(15, dt=i, x0=1e-3, x1=0, m=1, k=1, q=0.1)\n",
    "    Endtime = time.perf_counter()\n",
    "    elapsed_time = Endtime - Starttime\n",
    "    x = a[1]\n",
    "    x = np.delete(x, 0)\n",
    "    print(len(x))\n",
    "    xindex = j * (17/30)\n",
    "    print(xindex)\n",
    "    print('KE at', i, ':', KE(x[int(xindex)], m))\n",
    "    print(f'Function took {elapsed_time} secs to execute.')\n",
    "    print()"
   ]
  },
  {
   "cell_type": "markdown",
   "metadata": {},
   "source": [
    "#### From this we can see that 0.001 is the best time in terms of time taken and accuracy"
   ]
  },
  {
   "cell_type": "code",
   "execution_count": null,
   "metadata": {},
   "outputs": [],
   "source": [
    "a = RK2(15, dt=0.001, x0=1e-3, x1=0, m=1, k=-1, q=0)\n",
    "print(a[2])\n",
    "KE1 = np.array(KE(a[1], m))\n",
    "PE1 = np.array(U(k, a[0], q))\n",
    "E = KE1 + PE1\n",
    "\n",
    "plt.plot(a[2], E, color='g', label='Total Energy of System')\n",
    "plt.plot(a[2], KE1, color = 'red', label = 'Kinetic Energy')\n",
    "plt.plot(a[2], PE1, color='cyan', label='Potential Energy')\n",
    "# plt.title('Plot of Kinetic and Potential energy of the system varying over time')\n",
    "plt.xlabel('Time (s)')\n",
    "plt.ylabel('Energy (J)')\n",
    "plt.legend()\n",
    "plt.savefig('Q5RK2-1e-3.jpg')"
   ]
  },
  {
   "cell_type": "code",
   "execution_count": null,
   "metadata": {},
   "outputs": [],
   "source": [
    "a = RK2(15, dt=0.001, x0=1e-3, x1=0, m=1, k=-1, q=0)\n",
    "print(a[2])\n",
    "KE1 = np.array(KE(a[1], m))\n",
    "PE1 = np.array(U(k, a[0], q))\n",
    "E = KE1 + PE1\n",
    "\n",
    "plt.plot(a[2], E, color='g', label='Total Energy of System')\n",
    "plt.plot(a[2], KE1, color = 'red', label = 'Kinetic Energy')\n",
    "plt.plot(a[2], PE1, color='cyan', label='Potential Energy')\n",
    "# plt.title('Plot of Kinetic and Potential energy of the system varying over time')\n",
    "plt.xlabel('Time (s)')\n",
    "plt.ylabel('Energy (J)')\n",
    "plt.legend()\n",
    "plt.savefig('Q5RK2-1e-3.jpg')"
   ]
  },
  {
   "cell_type": "code",
   "execution_count": null,
   "metadata": {},
   "outputs": [],
   "source": [
    "a = RK2(15, dt=0.001, x0=0.01, x1=0, m=1, k=-1, q=0)\n",
    "print(a[2])\n",
    "KE1 = np.array(KE(a[1], m))\n",
    "PE1 = np.array(U(k, a[0], q))\n",
    "E = KE1 + PE1\n",
    "\n",
    "plt.plot(a[2], E, color='g', label='Total Energy of System')\n",
    "plt.plot(a[2], KE1, color = 'red', label = 'Kinetic Energy')\n",
    "plt.plot(a[2], PE1, color='cyan', label='Potential Energy')\n",
    "# plt.title('Plot of Kinetic and Potential energy of the system varying over time')\n",
    "plt.xlabel('Time (s)')\n",
    "plt.ylabel('Energy (J)')\n",
    "plt.legend()\n",
    "plt.savefig('Q5RK2-0.01.jpg')"
   ]
  },
  {
   "cell_type": "code",
   "execution_count": null,
   "metadata": {},
   "outputs": [],
   "source": [
    "a = RK2(15, dt=0.001, x0=0.1, x1=0, m=1, k=-1, q=0)\n",
    "print(a[2])\n",
    "KE1 = np.array(KE(a[1], m))\n",
    "PE1 = np.array(U(k, a[0], q))\n",
    "E = KE1 + PE1\n",
    "\n",
    "plt.plot(a[2], E, color='g', label='Total Energy of System')\n",
    "plt.plot(a[2], KE1, color = 'red', label = 'Kinetic Energy')\n",
    "plt.plot(a[2], PE1, color='cyan', label='Potential Energy')\n",
    "# plt.title('Plot of Kinetic and Potential energy of the system varying over time')\n",
    "plt.xlabel('Time (s)')\n",
    "plt.ylabel('Energy (J)')\n",
    "plt.legend()\n",
    "plt.savefig('Q5RK2-0.1.jpg')"
   ]
  },
  {
   "cell_type": "code",
   "execution_count": null,
   "metadata": {},
   "outputs": [],
   "source": [
    "a = RK2(15, dt=0.001, x0=1.0, x1=0, m=1, k=-1, q=0)\n",
    "print(a[2])\n",
    "KE1 = np.array(KE(a[1], m))\n",
    "PE1 = np.array(U(k, a[0], q))\n",
    "E = KE1 + PE1\n",
    "\n",
    "plt.plot(a[2], E, color='g', label='Total Energy of System')\n",
    "plt.plot(a[2], KE1, color = 'red', label = 'Kinetic Energy')\n",
    "plt.plot(a[2], PE1, color='cyan', label='Potential Energy')\n",
    "# plt.title('Plot of Kinetic and Potential energy of the system varying over time')\n",
    "plt.xlabel('Time (s)')\n",
    "plt.ylabel('Energy (J)')\n",
    "plt.legend()\n",
    "plt.savefig('Q5RK2-1.0.jpg')"
   ]
  },
  {
   "cell_type": "code",
   "execution_count": null,
   "metadata": {},
   "outputs": [],
   "source": [
    "a = RK2(15, dt=0.001, x0=10.0, x1=0, m=1, k=-1, q=0)\n",
    "print(a[2])\n",
    "KE1 = np.array(KE(a[1], m))\n",
    "PE1 = np.array(U(k, a[0], q))\n",
    "E = KE1 + PE1\n",
    "\n",
    "plt.plot(a[2], E, color='g', label='Total Energy of System')\n",
    "plt.plot(a[2], KE1, color = 'red', label = 'Kinetic Energy')\n",
    "plt.plot(a[2], PE1, color='cyan', label='Potential Energy')\n",
    "# plt.title('Plot of Kinetic and Potential energy of the system varying over time')\n",
    "plt.xlabel('Time (s)')\n",
    "plt.ylabel('Energy (J)')\n",
    "plt.legend()\n",
    "plt.savefig('Q5RK2-10.0.jpg')"
   ]
  },
  {
   "cell_type": "markdown",
   "metadata": {},
   "source": [
    "## Question 6"
   ]
  },
  {
   "cell_type": "code",
   "execution_count": null,
   "metadata": {},
   "outputs": [],
   "source": [
    "a = RK2(30, dt=0.001, x0=1e-3, x1=0, m=1, k=1, q=0.1)\n",
    "\n",
    "plt.plot(a[2], a[0], color='orange')\n",
    "# plt.title('Plot of Position of the mass of system over time')\n",
    "plt.xlabel('Time (s)')\n",
    "plt.ylabel('Position (m)')\n",
    "plt.savefig('Q6pos-1e-3.jpg')"
   ]
  },
  {
   "cell_type": "code",
   "execution_count": null,
   "metadata": {},
   "outputs": [],
   "source": [
    "a = RK2(30, dt=0.001, x0=0.01, x1=0, m=1, k=1, q=0.1)\n",
    "\n",
    "plt.plot(a[2], a[0], color='orange')\n",
    "# plt.title('Plot of Position of the mass of system over time')\n",
    "plt.xlabel('Time (s)')\n",
    "plt.ylabel('Position (m)')\n",
    "plt.savefig('Q6pos-0.01.jpg')"
   ]
  },
  {
   "cell_type": "code",
   "execution_count": null,
   "metadata": {},
   "outputs": [],
   "source": [
    "a = RK2(30, dt=0.001, x0=0.1, x1=0, m=1, k=1, q=0.1)\n",
    "\n",
    "plt.plot(a[2], a[0], color='orange')\n",
    "# plt.title('Plot of Position of the mass of system over time')\n",
    "plt.xlabel('Time (s)')\n",
    "plt.ylabel('Position (m)')\n",
    "plt.savefig('Q6pos-0.1.jpg')"
   ]
  },
  {
   "cell_type": "code",
   "execution_count": null,
   "metadata": {},
   "outputs": [],
   "source": [
    "a = RK2(30, dt=0.001, x0=1.0, x1=0, m=1, k=1, q=0.1)\n",
    "\n",
    "plt.plot(a[2], a[0], color='orange')\n",
    "# plt.title('Plot of Position of the mass of system over time')\n",
    "plt.xlabel('Time (s)')\n",
    "plt.ylabel('Position (m)')\n",
    "plt.savefig('Q6pos-1.0.jpg')"
   ]
  },
  {
   "cell_type": "code",
   "execution_count": null,
   "metadata": {},
   "outputs": [],
   "source": [
    "a = RK2(30, dt=0.001, x0=10.0, x1=0, m=1, k=1, q=0.1)\n",
    "\n",
    "plt.plot(a[2], a[0], color='orange')\n",
    "# plt.title('Plot of Position of the mass of system over time')\n",
    "plt.xlabel('Time (s)')\n",
    "plt.ylabel('Position (m)')\n",
    "plt.savefig('Q6pos-10.0.jpg')"
   ]
  },
  {
   "cell_type": "markdown",
   "metadata": {},
   "source": [
    "#### Velocities"
   ]
  },
  {
   "cell_type": "code",
   "execution_count": null,
   "metadata": {},
   "outputs": [],
   "source": [
    "a = RK2(15, dt=0.001, x0=1e-3, x1=0, m=1, k=1, q=0.1)\n",
    "\n",
    "plt.plot(a[2], a[1], color = 'blue')\n",
    "# plt.title('Plot of Velocity of the mass of the system over time')\n",
    "plt.xlabel('Time (s)')\n",
    "plt.ylabel('Velocity (m/s)')\n",
    "plt.savefig('Q6vel-1e-3.jpg')"
   ]
  },
  {
   "cell_type": "code",
   "execution_count": null,
   "metadata": {},
   "outputs": [],
   "source": [
    "a = RK2(15, dt=0.001, x0=0.01, x1=0, m=1, k=1, q=0.1)\n",
    "\n",
    "plt.plot(a[2], a[1], color = 'blue')\n",
    "# plt.title('Plot of Velocity of the mass of the system over time')\n",
    "plt.xlabel('Time (s)')\n",
    "plt.ylabel('Velocity (m/s)')\n",
    "plt.savefig('Q6vel-0.01.jpg')"
   ]
  },
  {
   "cell_type": "code",
   "execution_count": null,
   "metadata": {},
   "outputs": [],
   "source": [
    "a = RK2(15, dt=0.001, x0=0.1, x1=0, m=1, k=1, q=0.1)\n",
    "\n",
    "plt.plot(a[2], a[1], color = 'blue')\n",
    "# plt.title('Plot of Velocity of the mass of the system over time')\n",
    "plt.xlabel('Time (s)')\n",
    "plt.ylabel('Velocity (m/s)')\n",
    "plt.savefig('Q6vel-0.1.jpg')"
   ]
  },
  {
   "cell_type": "code",
   "execution_count": null,
   "metadata": {},
   "outputs": [],
   "source": [
    "a = RK2(15, dt=0.001, x0=1.0, x1=0, m=1, k=1, q=0.1)\n",
    "\n",
    "plt.plot(a[2], a[1], color = 'blue')\n",
    "# plt.title('Plot of Velocity of the mass of the system over time')\n",
    "plt.xlabel('Time (s)')\n",
    "plt.ylabel('Velocity (m/s)')\n",
    "plt.savefig('Q6vel-1.0.jpg')"
   ]
  },
  {
   "cell_type": "code",
   "execution_count": null,
   "metadata": {},
   "outputs": [],
   "source": [
    "a = RK2(15, dt=0.001, x0=10.0, x1=0, m=1, k=1, q=0.1)\n",
    "\n",
    "plt.plot(a[2], a[1], color = 'blue')\n",
    "# plt.title('Plot of Velocity of the mass of the system over time')\n",
    "plt.xlabel('Time (s)')\n",
    "plt.ylabel('Velocity (m/s)')\n",
    "plt.savefig('Q6vel-10.0.jpg')"
   ]
  },
  {
   "cell_type": "markdown",
   "metadata": {},
   "source": [
    "### Ideal Spring"
   ]
  },
  {
   "cell_type": "code",
   "execution_count": null,
   "metadata": {},
   "outputs": [],
   "source": [
    "a = RK2(15, dt=0.001, x0=1e-3, x1=0, m=1, k=-1, q=0)\n",
    "\n",
    "plt.plot(a[2], a[0], color='orange', label='Positions')\n",
    "# plt.title('Plot of Position of the mass of system over time')\n",
    "plt.xlabel('Time (s)')\n",
    "plt.ylabel('Position (m)')\n",
    "plt.savefig('Q6posID-1e-3.jpg')"
   ]
  },
  {
   "cell_type": "code",
   "execution_count": null,
   "metadata": {},
   "outputs": [],
   "source": [
    "a = RK2(15, dt=0.001, x0=1e-3, x1=0, m=1, k=-1, q=0)\n",
    "\n",
    "plt.plot(a[2], a[1], color = 'blue', label = 'Velocities')\n",
    "# plt.title('Plot of Velocity of the mass of the system over time')\n",
    "plt.xlabel('Time (s)')\n",
    "plt.ylabel('Velocity (m/s)')\n",
    "plt.savefig('Q6velID-1e-3.jpg')"
   ]
  },
  {
   "cell_type": "code",
   "execution_count": null,
   "metadata": {},
   "outputs": [],
   "source": [
    "a = RK2(15, dt=0.001, x0=0.01, x1=0, m=1, k=-1, q=0)\n",
    "\n",
    "plt.plot(a[2], a[0], color='orange', label='Positions')\n",
    "# plt.title('Plot of Position of the mass of system over time')\n",
    "plt.xlabel('Time (s)')\n",
    "plt.ylabel('Position (m)')\n",
    "plt.savefig('Q6posID-0.01.jpg')"
   ]
  },
  {
   "cell_type": "code",
   "execution_count": null,
   "metadata": {},
   "outputs": [],
   "source": [
    "a = RK2(15, dt=0.001, x0=0.01, x1=0, m=1, k=-1, q=0)\n",
    "\n",
    "plt.plot(a[2], a[1], color = 'blue', label = 'Velocities')\n",
    "# plt.title('Plot of Velocity of the mass of the system over time')\n",
    "plt.xlabel('Time (s)')\n",
    "plt.ylabel('Velocity (m/s)')\n",
    "plt.savefig('Q6velID-0.01.jpg')"
   ]
  },
  {
   "cell_type": "code",
   "execution_count": null,
   "metadata": {},
   "outputs": [],
   "source": [
    "a = RK2(15, dt=0.001, x0=0.1, x1=0, m=1, k=-1, q=0)\n",
    "\n",
    "plt.plot(a[2], a[0], color='orange', label='Positions')\n",
    "# plt.title('Plot of Position of the mass of system over time')\n",
    "plt.xlabel('Time (s)')\n",
    "plt.ylabel('Position (m)')\n",
    "plt.savefig('Q6posID-0.1.jpg')"
   ]
  },
  {
   "cell_type": "code",
   "execution_count": null,
   "metadata": {},
   "outputs": [],
   "source": [
    "a = RK2(15, dt=0.001, x0=0.1, x1=0, m=1, k=-1, q=0)\n",
    "\n",
    "plt.plot(a[2], a[1], color = 'blue', label = 'Velocities')\n",
    "# plt.title('Plot of Velocity of the mass of the system over time')\n",
    "plt.xlabel('Time (s)')\n",
    "plt.ylabel('Velocity (m/s)')\n",
    "plt.savefig('Q6velID-0.1.jpg')"
   ]
  },
  {
   "cell_type": "code",
   "execution_count": null,
   "metadata": {},
   "outputs": [],
   "source": [
    "a = RK2(15, dt=0.001, x0=1.0, x1=0, m=1, k=-1, q=0)\n",
    "\n",
    "plt.plot(a[2], a[0], color='orange', label='Positions')\n",
    "# plt.title('Plot of Position of the mass of system over time')\n",
    "plt.xlabel('Time (s)')\n",
    "plt.ylabel('Position (m)')\n",
    "plt.savefig('Q6posID-1.0.jpg')"
   ]
  },
  {
   "cell_type": "code",
   "execution_count": null,
   "metadata": {},
   "outputs": [],
   "source": [
    "a = RK2(15, dt=0.001, x0=1.0, x1=0, m=1, k=-1, q=0)\n",
    "\n",
    "plt.plot(a[2], a[1], color = 'blue', label = 'Velocities')\n",
    "# plt.title('Plot of Velocity of the mass of the system over time')\n",
    "plt.xlabel('Time (s)')\n",
    "plt.ylabel('Velocity (m/s)')\n",
    "plt.savefig('Q6velID-1.0.jpg')"
   ]
  },
  {
   "cell_type": "code",
   "execution_count": null,
   "metadata": {},
   "outputs": [],
   "source": [
    "a = RK2(15, dt=0.001, x0=10.0, x1=0, m=1, k=-1, q=0)\n",
    "\n",
    "plt.plot(a[2], a[0], color='orange', label='Positions')\n",
    "# plt.title('Plot of Position of the mass of system over time')\n",
    "plt.xlabel('Time (s)')\n",
    "plt.ylabel('Position (m)')\n",
    "plt.savefig('Q6posID-10.0.jpg')"
   ]
  },
  {
   "cell_type": "code",
   "execution_count": null,
   "metadata": {},
   "outputs": [],
   "source": [
    "a = RK2(15, dt=0.001, x0=10.0, x1=0, m=1, k=-1, q=0)\n",
    "\n",
    "plt.plot(a[2], a[1], color = 'blue', label = 'Velocities')\n",
    "# plt.title('Plot of Velocity of the mass of the system over time')\n",
    "plt.xlabel('Time (s)')\n",
    "plt.ylabel('Velocity (m/s)')\n",
    "plt.savefig('Q6velID-10.0.jpg')"
   ]
  },
  {
   "cell_type": "markdown",
   "metadata": {},
   "source": [
    "## Question 7"
   ]
  },
  {
   "cell_type": "code",
   "execution_count": null,
   "metadata": {},
   "outputs": [],
   "source": [
    "from scipy.signal import find_peaks"
   ]
  },
  {
   "cell_type": "code",
   "execution_count": null,
   "metadata": {},
   "outputs": [],
   "source": [
    "def PeriodFinder2(a, index):\n",
    "    positions = a[index]\n",
    "    localmaximaindices = find_peaks(positions)[0] # indexing a zero here as find_peaks returns a tuple and i just want the indices\n",
    "    times = []\n",
    "    # times = np.array(times)\n",
    "    t = a[2]\n",
    "\n",
    "    # print(\"Indices of Local Maxima:\", localmaximaindices)\n",
    "\n",
    "    for i in localmaximaindices:\n",
    "        times.append(t[i])\n",
    "    \n",
    "    Period = times[1] - times[0]\n",
    "\n",
    "    return Period\n",
    "\n",
    "PeriodFinder2(RK2(15, dt=0.001, x0=1e-3, x1=0, m=1, k=-1, q=0), 0),\n",
    "PeriodFinder2(RK2(15, dt=0.001, x0=0.01, x1=0, m=1, k=-1, q=0), 0),\n",
    "PeriodFinder2(RK2(15, dt=0.001, x0=0.1, x1=0, m=1, k=-1, q=0), 0),\n",
    "PeriodFinder2(RK2(15, dt=0.001, x0=1.0, x1=0, m=1, k=-1, q=0), 0),\n",
    "PeriodFinder2(RK2(15, dt=0.001, x0=10.0, x1=0, m=1, k=-1, q=0), 0)"
   ]
  },
  {
   "cell_type": "code",
   "execution_count": null,
   "metadata": {},
   "outputs": [],
   "source": [
    "Periods = np.array([PeriodFinder2(RK2(15, dt=0.001, x0=1e-3, x1=0, m=1, k=-1, q=0), 0),\n",
    "PeriodFinder2(RK2(15, dt=0.001, x0=0.01, x1=0, m=1, k=-1, q=0), 0),\n",
    "PeriodFinder2(RK2(15, dt=0.001, x0=0.1, x1=0, m=1, k=-1, q=0), 0),\n",
    "PeriodFinder2(RK2(15, dt=0.001, x0=1.0, x1=0, m=1, k=-1, q=0), 0),\n",
    "PeriodFinder2(RK2(15, dt=0.001, x0=10.0, x1=0, m=1, k=-1, q=0), 0)])\n",
    "\n",
    "print(Periods)\n",
    "\n",
    "Positions = np.array([1e-3, 0.01, 0.1, 1.0, 10.0])"
   ]
  },
  {
   "cell_type": "code",
   "execution_count": null,
   "metadata": {},
   "outputs": [],
   "source": [
    "plt.plot(Positions, np.log(Periods), label='Linear Fit')\n",
    "plt.plot(Positions, np.log(Periods), '.', label='Data Points', color='r')\n",
    "# plt.title('Semi Log plot of the Period of the Ideal Spring at each initial displacement vs its Initial Displacement')\n",
    "plt.ylabel('Semi-Log Scale of Periods (s)')\n",
    "plt.xlabel('Positions (m)')\n",
    "plt.legend()\n",
    "plt.savefig('IDPeriodplot2.jpg')\n",
    "\n",
    "\n",
    "# The plot displays a constant linear relationship in that the periods of the same springs at different initial displacements are the same as is normal with an ideal spring, provided the mass and k is the same for all calculations."
   ]
  },
  {
   "cell_type": "code",
   "execution_count": null,
   "metadata": {},
   "outputs": [],
   "source": [
    "Periods = np.array([PeriodFinder2(RK2(30, dt=0.001, x0=1e-3, x1=0, m=1, k=1, q=0.1), 0),\n",
    "PeriodFinder2(RK2(30, dt=0.001, x0=0.01, x1=0, m=1, k=1, q=0.1), 0),\n",
    "PeriodFinder2(RK2(30, dt=0.001, x0=0.1, x1=0, m=1, k=1, q=0.1), 0),\n",
    "PeriodFinder2(RK2(30, dt=0.001, x0=1.0, x1=0, m=1, k=1, q=0.1), 0),\n",
    "PeriodFinder2(RK2(30, dt=0.001, x0=10.0, x1=0, m=1, k=1, q=0.1), 0)])\n",
    "Positions = np.array([1e-3, 0.01, 0.1, 1.0, 10.0])\n",
    "\n",
    "Periodslist = []\n",
    "PositionsList = []\n",
    "i = 1.2\n",
    "\n",
    "while i < 9.2:\n",
    "    a = PeriodFinder2(RK2(30, dt=0.001, x0=i, x1=0, m=1, k=1, q=0.1), 0)\n",
    "    Periodslist.append(a)\n",
    "    PositionsList.append(i)\n",
    "    i+= 0.1\n",
    "Positions = np.array([1e-3, 0.01, 0.1, 1.0, 10.0])"
   ]
  },
  {
   "cell_type": "code",
   "execution_count": null,
   "metadata": {},
   "outputs": [],
   "source": [
    "plt.plot(Positions, np.log(Periods), '.', color='r', label='Periods at Given Distances in Exercise')\n",
    "# plt.title('Semi Log plot of the Period of the Interesting case, ($q=0.1$), at each initial displacement vs its Initial Displacement')\n",
    "plt.ylabel('Semi-Log Scale of Periods (s)')\n",
    "plt.xlabel('Positions (m)')\n",
    "plt.plot(PositionsList, np.log(Periodslist), '.', label='Added Intermediate Values')\n",
    "plt.legend()\n",
    "plt.savefig('InterestingCasePeriods.jpg')"
   ]
  },
  {
   "cell_type": "code",
   "execution_count": null,
   "metadata": {},
   "outputs": [],
   "source": [
    "j = 1\n",
    "while j < 3:\n",
    "    print(f'Force for x_0={j:.1f} = {F(k=1, x=j, q=0.1)}')\n",
    "    print(f'Potential for x_0={j:.1f} = {U(1, x=j, q=0.1)}')\n",
    "    # print(F(k=1, x=j, q=0.1)-U(1, x=j, q=0.1))\n",
    "    print()\n",
    "    j += 0.1"
   ]
  },
  {
   "cell_type": "markdown",
   "metadata": {},
   "source": [
    "## Question 8 Sympy"
   ]
  },
  {
   "cell_type": "code",
   "execution_count": null,
   "metadata": {},
   "outputs": [],
   "source": [
    "import sympy as sp"
   ]
  },
  {
   "cell_type": "code",
   "execution_count": null,
   "metadata": {},
   "outputs": [],
   "source": [
    "x = sp.symbols('x')\n",
    "\n",
    "# Must Define Function for F beforehand or just input what the force is equal to into the function.\n",
    "# Min and max range of x values can be plugged in to show the graph of the potential in a specific region. \n",
    "\n",
    "def ForceIntegrator(force, xrangemin, xrangemax, saveas):\n",
    "    Potential = -sp.integrate(force, x)\n",
    "\n",
    "    xvals = np.linspace(xrangemin, xrangemax, 1000)\n",
    "    PotentialFunction = sp.lambdify(x, Potential) # Lambdify turns the sympy output into a numerical function that can accept inputs and give outputs\n",
    "    yvals = PotentialFunction(xvals)\n",
    "\n",
    "    plt.plot(xvals, yvals)\n",
    "    plt.xlabel('Displacement (x) in metres')\n",
    "    plt.ylabel('U(x) (J)')\n",
    "    plt.title('Plot of U(x) gotten from arbitrary F(x) inputted')\n",
    "    # plt.ylim(ylimmin, ylimmax)\n",
    "    plt.savefig(f'{saveas}.jpg')\n",
    "    return Potential\n",
    "\n",
    "# ForceIntegrator(k*x - 4 * q * (x**3)\n",
    "ForceIntegrator(F(-1, x, 0), -100, 100, 'IdealSpring') # For an Ideal Spring\n",
    "# ForceIntegrator(x**2 + 2*x, -10, 10)"
   ]
  },
  {
   "cell_type": "code",
   "execution_count": null,
   "metadata": {},
   "outputs": [],
   "source": [
    "ForceIntegrator(F(1, x, 0.1), -2.5, 2.5, 'InterestingCase')"
   ]
  },
  {
   "cell_type": "code",
   "execution_count": null,
   "metadata": {},
   "outputs": [],
   "source": [
    "ForceIntegrator(F(-1, x, 0.1), -50, 50, 'InterestingCaseQ9')"
   ]
  },
  {
   "cell_type": "markdown",
   "metadata": {},
   "source": [
    "## Question 9 - Extension Effects of Damping on the system"
   ]
  },
  {
   "cell_type": "markdown",
   "metadata": {},
   "source": [
    "(i) Taking the Ideal Spring at $x_0 = 10^{-3}$ and adding the the non linear term $q$ and the damping term, observe how a change in the damping coefficient changes the behaviour of the system.\n",
    "\n",
    "Assuming the Force acting on the mass is now $F(x) = -kx - 4qx^{3}$ taking the interesting case of $q = 0.1$ and $k=1$, examine the effects of damping on the system, with $q$ is sufficiently small to approximate the Force acting on it as Hooke's Law giving three damping cases of $c^{2} >, = ,< 4mk$\n",
    "\n",
    "(ii) After this keep $c$ at constant critical damping level from (i) above and increase $k$ and $q$, keeping one constant while changing the other and observe the effect this has on the system in terms of its energy. Use $x_0 = 10^{-3}$ when varying $k$ and $x_0 = 1.0$ for varying $q$ ( to make the values of $q$ less large than they need to be)."
   ]
  },
  {
   "cell_type": "markdown",
   "metadata": {},
   "source": [
    "#### Taking the interesting case & observing how a change in the damping coefficient changes the dynamics of the system:\n",
    "\n",
    "(i)"
   ]
  },
  {
   "cell_type": "code",
   "execution_count": null,
   "metadata": {},
   "outputs": [],
   "source": [
    "def fdamp(x, m, k, q, c, v):\n",
    "    # Adding in damping term c\n",
    "    return (1/m) * (-k*x - 4*q*(x ** 3) - c * v)"
   ]
  },
  {
   "cell_type": "code",
   "execution_count": null,
   "metadata": {},
   "outputs": [],
   "source": [
    "def RK2Damping(MaxTime, dt, x0, x1, c, m, k, q):\n",
    "    time = 0\n",
    "\n",
    "    positions = []\n",
    "    velocities = []\n",
    "    times = []\n",
    "    x = np.array([x0, x1])\n",
    "    \n",
    "    while time < MaxTime:\n",
    "        k1pos = dt * x[1]\n",
    "        k1vel = dt * fdamp(x[0], m, k, q, c, x[1])\n",
    "\n",
    "        k2pos = dt * (x[1] + k1vel)\n",
    "        k2vel = dt * fdamp(x[0]+ k1pos, m, k, q, c, x[1] + k1vel)\n",
    "\n",
    "        positions.append(x[0])\n",
    "        velocities.append(x[1])\n",
    "        times.append(time)\n",
    "\n",
    "        x[0] = x[0] + 0.5 * (k1pos + k2pos)\n",
    "        x[1] = x[1] + 0.5 * (k1vel + k2vel)\n",
    "\n",
    "        time = time + dt\n",
    "        \n",
    "    positions = np.array(positions)\n",
    "    velocities = np.array(velocities)\n",
    "    times = np.array(times)\n",
    "    result = positions, velocities, times\n",
    "    return result\n",
    "\n",
    "k=1\n",
    "q=0.1\n",
    "m=1"
   ]
  },
  {
   "cell_type": "markdown",
   "metadata": {},
   "source": [
    "## Underdamping Case for x0 = 1e-3"
   ]
  },
  {
   "cell_type": "code",
   "execution_count": null,
   "metadata": {},
   "outputs": [],
   "source": [
    "a = RK2Damping(30, dt=0.0001, x0=1e-3, x1=0, c= 0.25 * np.sqrt(m * k), m=1, k=1, q=0.1)\n",
    "KE1 = np.array(KE(a[1], m))\n",
    "# PE1 = np.array(U(-k, a[0], q))\n",
    "PE1 = np.array(U(k=-1.0, x=a[0], q=0.1))\n",
    "E = KE1 + PE1\n",
    "\n",
    "plt.plot(a[2], E, color='g', label='Total Energy of System')\n",
    "plt.plot(a[2], KE1, color = 'red', label = 'Kinetic Energy')\n",
    "plt.plot(a[2], PE1, color='cyan', label='Potential Energy')\n",
    "# plt.title('Plot of Kinetic and Potential energy of the system varying over time')\n",
    "plt.xlabel('Time (s)')\n",
    "plt.ylabel('Energy (J)')\n",
    "plt.legend()\n",
    "plt.savefig('Q9(i)x0=1e-3-UD-c=0.252.jpg')"
   ]
  },
  {
   "cell_type": "markdown",
   "metadata": {},
   "source": [
    "# Critical Damping Case for x0 = 1e-3"
   ]
  },
  {
   "cell_type": "code",
   "execution_count": null,
   "metadata": {},
   "outputs": [],
   "source": [
    "a = RK2Damping(10, dt=0.0001, x0=1e-3, x1=0, c= 2 * np.sqrt(m * k), m=1, k=1, q=0.1)\n",
    "KE1 = np.array(KE(a[1], m))\n",
    "# PE1 = np.array(U(-k, a[0], q))\n",
    "PE1 = np.array(U(k=-1.0, x=a[0], q=0.1))\n",
    "E = KE1 + PE1\n",
    "\n",
    "plt.plot(a[2], E, color='g', label='Total Energy of System')\n",
    "plt.plot(a[2], KE1, color = 'red', label = 'Kinetic Energy')\n",
    "plt.plot(a[2], PE1, color='cyan', label='Potential Energy')\n",
    "# plt.title('Plot of Kinetic and Potential energy of the system varying over time')\n",
    "plt.xlabel('Time (s)')\n",
    "plt.ylabel('Energy (J)')\n",
    "plt.legend()\n",
    "plt.savefig('Q9(i)x0=1e-3-CD-c=210s.jpg')"
   ]
  },
  {
   "cell_type": "markdown",
   "metadata": {},
   "source": [
    "# Overdamping Case for x0=1e-3"
   ]
  },
  {
   "cell_type": "code",
   "execution_count": null,
   "metadata": {},
   "outputs": [],
   "source": [
    "a = RK2Damping(20, dt=0.0001, x0=1e-3, x1=0, c= 2 * np.sqrt(m * k), m=1, k=3, q=0.1)\n",
    "KE1 = np.array(KE(a[1], m))\n",
    "# PE1 = np.array(U(-k, a[0], q))\n",
    "PE1 = np.array(U(k=-1.0, x=a[0], q=0.1))\n",
    "E = KE1 + PE1\n",
    "\n",
    "plt.plot(a[2], E, color='g', label='Total Energy of System')\n",
    "plt.plot(a[2], KE1, color = 'red', label = 'Kinetic Energy')\n",
    "plt.plot(a[2], PE1, color='cyan', label='Potential Energy')\n",
    "# plt.title('Plot of Kinetic and Potential energy of the system varying over time')\n",
    "plt.xlabel('Time (s)')\n",
    "plt.ylabel('Energy (J)')\n",
    "plt.legend()\n",
    "plt.savefig('Q9(i)x0=1e-3-OD-c=6.jpg')"
   ]
  },
  {
   "cell_type": "markdown",
   "metadata": {},
   "source": [
    "(ii)\n",
    "\n",
    "Varying q while k and c constant"
   ]
  },
  {
   "cell_type": "code",
   "execution_count": null,
   "metadata": {},
   "outputs": [],
   "source": [
    "a = RK2Damping(5, dt=0.001, x0=1.0, x1=0, c= 2 * np.sqrt(m * k), m=1, k=1, q=10)\n",
    "print(a[2])\n",
    "KE1 = np.array(KE(a[1], m))\n",
    "PE1 = np.array(U(-1, a[0], q))\n",
    "E = KE1 + PE1\n",
    "\n",
    "plt.plot(a[2], E, color='g', label='Total Energy of System')\n",
    "plt.plot(a[2], KE1, color = 'red', label = 'Kinetic Energy')\n",
    "plt.plot(a[2], PE1, color='cyan', label='Potential Energy')\n",
    "# plt.title('Plot of Kinetic and Potential energy of the system varying over time')\n",
    "plt.xlabel('Time (s)')\n",
    "plt.ylabel('Energy (J)')\n",
    "plt.legend()\n",
    "plt.savefig('Q9(ii)x0=1.0-varyingq=10.jpg')"
   ]
  }
 ],
 "metadata": {
  "kernelspec": {
   "display_name": "Python 3",
   "language": "python",
   "name": "python3"
  },
  "language_info": {
   "codemirror_mode": {
    "name": "ipython",
    "version": 3
   },
   "file_extension": ".py",
   "mimetype": "text/x-python",
   "name": "python",
   "nbconvert_exporter": "python",
   "pygments_lexer": "ipython3",
   "version": "3.12.4"
  }
 },
 "nbformat": 4,
 "nbformat_minor": 2
}
