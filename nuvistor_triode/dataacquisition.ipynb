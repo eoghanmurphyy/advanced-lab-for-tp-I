{
 "cells": [
  {
   "cell_type": "code",
   "execution_count": 1,
   "metadata": {},
   "outputs": [],
   "source": [
    "from pydaqmx_helper.dac import DAC\n",
    "import time\n",
    "import numpy as np\n",
    "import matplotlib.pyplot as plt\n",
    "import serial"
   ]
  },
  {
   "cell_type": "code",
   "execution_count": 2,
   "metadata": {},
   "outputs": [],
   "source": [
    "# Create a DAC instance for channel 0\n",
    "myDAC = DAC(0)"
   ]
  },
  {
   "cell_type": "code",
   "execution_count": 59,
   "metadata": {},
   "outputs": [
    {
     "name": "stdout",
     "output_type": "stream",
     "text": [
      "COM1 - Communications Port (COM1)\n",
      "COM4 - USB Serial Port (COM4)\n"
     ]
    }
   ],
   "source": [
    "from serial.tools import list_ports\n",
    "for p in list_ports.comports():\n",
    "    print(p)"
   ]
  },
  {
   "cell_type": "code",
   "execution_count": 60,
   "metadata": {
    "scrolled": true
   },
   "outputs": [],
   "source": [
    "ser = serial.Serial(\n",
    "    \"com4\",\n",
    "    baudrate=57600,\n",
    "    bytesize=serial.EIGHTBITS,\n",
    "    parity=serial.PARITY_NONE,\n",
    "    stopbits=serial.STOPBITS_ONE,\n",
    "    xonxoff=False,\n",
    "    timeout=1, # seconds\n",
    ")"
   ]
  },
  {
   "cell_type": "code",
   "execution_count": 61,
   "metadata": {},
   "outputs": [],
   "source": [
    "# must define a function to change string to bytes to send to the device\n",
    "def data(mystring):\n",
    "    return bytes(mystring+'\\n','utf-8')"
   ]
  },
  {
   "cell_type": "markdown",
   "metadata": {},
   "source": [
    "ser.flushInput() # fresh start for data"
   ]
  },
  {
   "cell_type": "markdown",
   "metadata": {},
   "source": [
    "### Configuring Device"
   ]
  },
  {
   "cell_type": "code",
   "execution_count": 62,
   "metadata": {},
   "outputs": [
    {
     "data": {
      "text/plain": [
       "[b'RBD Instruments: PicoAmmeter\\r\\n',\n",
       " b'Firmware Version: 02.09\\r\\n',\n",
       " b'Build: 1-25-18\\r\\n',\n",
       " b'R, Range=AutoR\\r\\n',\n",
       " b'I, sample Interval=0000 mSec\\r\\n',\n",
       " b'L, Chart Log Update Interval=0200 mSec\\r\\n',\n",
       " b'B, BIAS=OFF\\r\\n',\n",
       " b'F, Filter=016\\r\\n',\n",
       " b'V, FormatLen=8\\r\\n',\n",
       " b'CA, Autocal=OFF\\r\\n',\n",
       " b'G, AutoGrounding=DISABLED\\r\\n',\n",
       " b'Q, State=MEASURE\\r\\n',\n",
       " b'P, PID=PES_1     \\r\\n']"
      ]
     },
     "execution_count": 62,
     "metadata": {},
     "output_type": "execute_result"
    }
   ],
   "source": [
    "# query device configrations\n",
    "ser.write(data(\"&Q\\n\")) # query \n",
    "ser.readlines()"
   ]
  },
  {
   "cell_type": "code",
   "execution_count": 63,
   "metadata": {},
   "outputs": [
    {
     "data": {
      "text/plain": [
       "b'&R, Range=AutoR\\r\\n'"
      ]
     },
     "execution_count": 63,
     "metadata": {},
     "output_type": "execute_result"
    }
   ],
   "source": [
    "# enabling auto range\n",
    "ser.write(data(\"&R0\")) #set to autoranging for magnitude of current\n",
    "ser.readline()"
   ]
  },
  {
   "cell_type": "code",
   "execution_count": 64,
   "metadata": {
    "scrolled": true
   },
   "outputs": [
    {
     "data": {
      "text/plain": [
       "b'&F, Filter=000\\r\\n'"
      ]
     },
     "execution_count": 64,
     "metadata": {},
     "output_type": "execute_result"
    }
   ],
   "source": [
    "# # setting filter to reduce noise\n",
    "ser.write(data(\"&F000\")) \n",
    "# # helps dealing with~ low currents at an anode, which might fluctuate due to environmental noise.\n",
    "ser.readline()"
   ]
  },
  {
   "cell_type": "code",
   "execution_count": 65,
   "metadata": {},
   "outputs": [],
   "source": [
    "# ser.write(data(\"&V8\"))  # set to 8 decimal places for maximum precision\n",
    "# ser.readline()"
   ]
  },
  {
   "cell_type": "code",
   "execution_count": 66,
   "metadata": {},
   "outputs": [],
   "source": [
    "# ser.write(data(\"&I0100\"))  # set to 100ms auto sampling\n",
    "# ser.readline()"
   ]
  },
  {
   "cell_type": "markdown",
   "metadata": {},
   "source": [
    "### Measuring Current from pico ammeter"
   ]
  },
  {
   "cell_type": "code",
   "execution_count": null,
   "metadata": {},
   "outputs": [
    {
     "name": "stdout",
     "output_type": "stream",
     "text": [
      "&S=,Range=002nA,+0.0935542,nA\n",
      "29\n",
      "S\n",
      "['&S=', 'Range=002nA', '+0.0935542', 'nA']\n",
      "+0.0935542\n",
      "&S=\n"
     ]
    }
   ],
   "source": [
    "# extracting current value from string returned:\n",
    "\n",
    "def extracter(answer):\n",
    "    pieces = answer.split(',')\n",
    "    # print(pieces)\n",
    "    currentval = float(pieces[-2])\n",
    "#     if len(pieces) > 2:\n",
    "#         currentval = float(pieces[2])\n",
    "#     else:\n",
    "#         return None\n",
    "#     if len(pieces) > 3:\n",
    "#         currentval = float(pieces[2])\n",
    "#     else:\n",
    "#         return None\n",
    "    if pieces[-1] == 'mA': \n",
    "        return currentval * 1e-3\n",
    "    if pieces[-1] == 'uA':\n",
    "        return currentval * 1e-6\n",
    "    if pieces[-1] == 'nA':\n",
    "        return currentval * 1e-9\n",
    "    if pieces[-1] == 'pA':\n",
    "        return currentval * 1e-12\n",
    "    \n",
    "myDAC.writeVoltage(vmapperinverse(1.5))\n",
    "ser.write(data('&S'))\n",
    "ans = ser.readline().decode(\"utf-8\").rstrip()\n",
    "print(ans)\n",
    "print(len(ans))\n",
    "print(ans[1])\n",
    "pieces = ans.split(',')\n",
    "print(pieces)\n",
    "print(pieces[2])\n",
    "print(ans.split(',')[0])\n",
    "for i in range(0,100):\n",
    "    myDAC.writeVoltage(vmapperinverse(1.5))\n",
    "    ser.write(data('&S')) \n",
    "# code used to get correct reading of current at starting point before starting the loop below"
   ]
  },
  {
   "cell_type": "code",
   "execution_count": null,
   "metadata": {},
   "outputs": [],
   "source": [
    "#  defining a function to map 0V on the daq to -5V on the actual output\n",
    "\n",
    "def vmapper(Vdaq):\n",
    "    return 2 * Vdaq - 5\n",
    "\n",
    "# define inverse function to input whatever desired voltage range\n",
    "\n",
    "def vmapperinverse(V):\n",
    "    return (V + 5)/2"
   ]
  },
  {
   "cell_type": "code",
   "execution_count": 85,
   "metadata": {},
   "outputs": [],
   "source": [
    "# applying voltage across anode\n",
    "\n",
    "iv = []\n",
    "cmeasured = []\n",
    "\n",
    "voltage = 1.5\n",
    "numsamples = 10\n",
    "\n",
    "while voltage > -1.5:\n",
    "    # set sample interval\n",
    "    #print(voltage)\n",
    "\n",
    "    iv.append(voltage)\n",
    "    myDAC.writeVoltage(vmapperinverse(voltage))\n",
    "    #print(voltage)\n",
    "    \n",
    "    if voltage == 1.5:\n",
    "        time.sleep(3)\n",
    "\n",
    "    time.sleep(0.2) # stabilise voltage inputted\n",
    "    cm = [] # empty list for samples which will be taken the avg of\n",
    "    for _ in range(numsamples): # underscore removes the need for a variable\n",
    "        ser.write(data('&S\\n'))\n",
    "        ans = ser.readline().decode(\"utf-8\").rstrip()\n",
    "        #print(ans)\n",
    "        #print(len(ans.split(',')))\n",
    "        if len(ans.split(',')) == 4:\n",
    "            if ans.split(',')[0] == '&S=': \n",
    "                currentmeasured = np.abs(extracter(ans))\n",
    "                cm.append(currentmeasured)\n",
    "            else:\n",
    "                time.sleep(1)\n",
    "                for _ in range(numsamples): # underscore removes the need for a variable\n",
    "                    ser.write(data('&S\\n'))\n",
    "                    ans = ser.readline().decode(\"utf-8\").rstrip()\n",
    "                    \n",
    "                    if len(ans.split(',')) == 4:\n",
    "                        currentmeasured = np.abs(extracter(ans))\n",
    "                        cm.append(currentmeasured)\n",
    "                        \n",
    "    currentvalue = np.mean(cm)\n",
    "    cmeasured.append(currentvalue)      \n",
    "\n",
    "    voltage = voltage - 0.005"
   ]
  },
  {
   "cell_type": "code",
   "execution_count": 86,
   "metadata": {},
   "outputs": [
    {
     "name": "stdout",
     "output_type": "stream",
     "text": [
      "601\n"
     ]
    },
    {
     "data": {
      "image/png": "[encoded data removed]",
      "text/plain": [
       "<Figure size 432x288 with 1 Axes>"
      ]
     },
     "metadata": {
      "needs_background": "light"
     },
     "output_type": "display_data"
    }
   ],
   "source": [
    "plt.scatter(iv,cmeasured)\n",
    "plt.ylabel('Log of Anode Current')\n",
    "plt.xlabel('Anode Voltage')\n",
    "plt.yscale(\"log\")\n",
    "# plt.xlim(-1, -.3)\n",
    "plt.grid(True)\n",
    "print(len(iv))"
   ]
  },
  {
   "cell_type": "code",
   "execution_count": 74,
   "metadata": {},
   "outputs": [],
   "source": [
    "finaldata = np.column_stack([iv, cmeasured])\n",
    "np.savetxt(\"107.4mA.txt\", finaldata, header='Input Voltage (V), Current (A)')"
   ]
  }
 ],
 "metadata": {
  "kernelspec": {
   "display_name": "Python 3 (ipykernel)",
   "language": "python",
   "name": "python3"
  },
  "language_info": {
   "codemirror_mode": {
    "name": "ipython",
    "version": 3
   },
   "file_extension": ".py",
   "mimetype": "text/x-python",
   "name": "python",
   "nbconvert_exporter": "python",
   "pygments_lexer": "ipython3",
   "version": "3.9.12"
  }
 },
 "nbformat": 4,
 "nbformat_minor": 2
}
