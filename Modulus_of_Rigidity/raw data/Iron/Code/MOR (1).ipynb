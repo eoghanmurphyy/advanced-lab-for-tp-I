{
 "cells": [
  {
   "cell_type": "code",
   "execution_count": 1,
   "id": "4751cf79",
   "metadata": {},
   "outputs": [],
   "source": [
    "from pydaqmx_helper.adc import ADC\n",
    "from pydaqmx_helper.dac import DAC\n",
    "import matplotlib.pyplot as plt\n",
    "import numpy as np\n",
    "import time"
   ]
  },
  {
   "cell_type": "code",
   "execution_count": 26,
   "id": "93a1a0b2",
   "metadata": {},
   "outputs": [
    {
     "name": "stdout",
     "output_type": "stream",
     "text": [
      "Activated Channel 0\n"
     ]
    }
   ],
   "source": [
    "myADC = ADC()\n",
    "myDAC = DAC(1)\n",
    "myADC.addChannels([0], ADC_mode = \"DAQmx_Val_Diff\", minRange = -5.0, maxRange=5.0)"
   ]
  },
  {
   "cell_type": "markdown",
   "id": "93121a6f",
   "metadata": {},
   "source": [
    "## Silver Rod"
   ]
  },
  {
   "cell_type": "code",
   "execution_count": 225,
   "id": "519c7a89",
   "metadata": {
    "scrolled": true
   },
   "outputs": [
    {
     "name": "stdout",
     "output_type": "stream",
     "text": [
      "0.0024161751868572168\n",
      "0.0024161751868572168\n",
      "0.0024161751868572168\n",
      "0.0024161751868572168\n",
      "0.0024161751868572168\n",
      "0.0024161751868572168\n",
      "0.0024161751868572168\n",
      "0.0024161751868572168\n",
      "0.0024161751868572168\n",
      "0.0024161751868572168\n",
      "0.0024161751868572168\n",
      "0.0024161751868572168\n",
      "0.0024161751868572168\n",
      "0.0024161751868572168\n",
      "0.2522359026117744\n",
      "0.10948177265467862\n",
      "0.06359651659704113\n",
      "0.04320306946031316\n",
      "0.033006345891948285\n",
      "0.027907984107766737\n",
      "0.022809622323585188\n",
      "0.01771126053940364\n",
      "0.012612898755220314\n",
      "0.012612898755220314\n",
      "0.012612898755220314\n"
     ]
    }
   ],
   "source": [
    "#Silver and Iron and brass Rod\n",
    "# Silver rod amplitude = 3\n",
    "# Iromn Rod amplitude = 4 \n",
    "# Brass Rod amplitude = \n",
    "\n",
    "InputVoltages = []\n",
    "OutputVoltages = []\n",
    "\n",
    "voltage = 0\n",
    "\n",
    "while voltage < 5:\n",
    "    InputVoltages.append(voltage)\n",
    "    myDAC.writeVoltage(voltage)\n",
    "    time.sleep(0.5)\n",
    "    val = myADC.readVoltage()\n",
    "    print(val)\n",
    "    OutputVoltages.append(val)\n",
    "    voltage += 0.2\n",
    "\n",
    "#DriverFrequencies = [0, 13.5, 26.35, 39.0, 51.70, 64.45, 77.23, 89.99, 102.65, 115.17, 127.86, 140.64, 153.56, 165.50, 179.42, 192.36, 205.15,217.74, 230.42, 243.14, 256.09, 269.01, 281.62, 294.42, 307.44]\n",
    "\n",
    "#header = \"@90degrees Driver Frequency, Input Voltage, Output Voltage\"\n",
    "#np.savetxt(\"90degIronData\", np.column_stack([DriverFrequencies, InputVoltages, OutputVoltages]), header=header)"
   ]
  },
  {
   "cell_type": "code",
   "execution_count": null,
   "id": "e12cb065",
   "metadata": {},
   "outputs": [],
   "source": [
    "#Silver Rod\n",
    "\n",
    "InputVoltagesHone1 = []\n",
    "OutputVoltagesHone1 = []\n",
    "\n",
    "voltage = 2.4\n",
    "\n",
    "while  voltage < 2.9:\n",
    "    InputVoltagesHone1.append(voltage)\n",
    "    myDAC.writeVoltage(voltage)\n",
    "    time.sleep(6)\n",
    "    val = myADC.readVoltage()\n",
    "    print(val)\n",
    "    OutputVoltagesHone1.append(val)\n",
    "    voltage += 0.05\n",
    "\n",
    "DriverFrequenciesHone1 = [153.56, 156.83, 160.19, 163.28, 166.62, 169.85, 173.01, 177.25, 179.56, 182.68, 185.94]\n",
    "\n",
    "header = \"@150degrees Driver Frequency Hone1, Input Voltage, Output Voltage\"\n",
    "np.savetxt(\"150degSilverDataHone1\", np.column_stack([DriverFrequenciesHone1, InputVoltagesHone1, OutputVoltagesHone1]), header=header)"
   ]
  },
  {
   "cell_type": "code",
   "execution_count": null,
   "id": "62d133aa",
   "metadata": {},
   "outputs": [],
   "source": [
    "#Silver Rod\n",
    "\n",
    "InputVoltagesHone2 = []\n",
    "OutputVoltagesHone2 = []\n",
    "\n",
    "voltage = 2.5\n",
    "\n",
    "while voltage < 2.8:\n",
    "    InputVoltagesHone2.append(voltage)\n",
    "    myDAC.writeVoltage(voltage)\n",
    "    time.sleep(6)\n",
    "    val = myADC.readVoltage()\n",
    "    print(val)\n",
    "    OutputVoltagesHone2.append(val)\n",
    "    voltage += 0.01\n",
    "\n",
    "DriverFrequenciesHone2 = [159.96, 160.64, 161.22,161.89, 162.53, 163.22, 163.92, 164.63, 165.27, 166.89, 167.17, 167.80, 168.40, 169.11, 169.76, 170.45, 171.05, 171.67, 172.31, 173.03, 173.61, 174.24, 174.94, 175.55, 176.24, 176.88, 177.50, 178,14, 178.78, 179.44]    \n",
    "#DriverFrequenciesHone2 = [163.22, 163.92, 164.63, 165.27, 166.89, 167.17, 167.80, 168.40, 169.11, 169.76, 170.45, 171.05, 171.67, 172.31, 173.03, 173.61, 174.24, 174.94, 175.55, 176.24, 176.88, 177.50, 178,14, 178.78, 179.44]\n",
    "\n",
    "header = \"@150degrees Driver Frequency Hone2, Input Voltage, Output Voltage\"\n",
    "np.savetxt(\"150degSilverDataHone2\", np.column_stack([DriverFrequenciesHone2, InputVoltagesHone2, OutputVoltagesHone2]), header=header)"
   ]
  },
  {
   "cell_type": "markdown",
   "id": "f504b492",
   "metadata": {},
   "source": [
    "## Iron Rod"
   ]
  },
  {
   "cell_type": "code",
   "execution_count": null,
   "id": "53473cab",
   "metadata": {},
   "outputs": [],
   "source": [
    "#Silver and Iron Rod\n",
    "\n",
    "InputVoltages = []\n",
    "OutputVoltages = []\n",
    "\n",
    "voltage = 0\n",
    "\n",
    "while voltage < 5:\n",
    "    InputVoltages.append(voltage)\n",
    "    myDAC.writeVoltage(voltage)\n",
    "    time.sleep(1.5)\n",
    "    val = myADC.readVoltage()\n",
    "    print(val)\n",
    "    OutputVoltages.append(val)\n",
    "    voltage += 0.2\n",
    "\n",
    "#DriverFrequencies = [0, 13.5, 26.35, 39.0, 51.70, 64.45, 77.23, 89.99, 102.65, 115.17, 127.86, 140.64, 153.56, 165.50, 179.42, 192.36, 205.15,217.74, 230.42, 243.14, 256.09, 269.01, 281.62, 294.42, 307.44]\n",
    "\n",
    "#header = \"@90degrees Driver Frequency, Input Voltage, Output Voltage\"\n",
    "#np.savetxt(\"90degIronData\", np.column_stack([DriverFrequencies, InputVoltages, OutputVoltages]), header=header)"
   ]
  },
  {
   "cell_type": "code",
   "execution_count": 220,
   "id": "67ea1879",
   "metadata": {},
   "outputs": [
    {
     "name": "stdout",
     "output_type": "stream",
     "text": [
      "0.0024161751868572168\n",
      "0.0024161751868572168\n",
      "0.0024161751868572168\n",
      "0.0024161751868572168\n",
      "0.0024161751868572168\n",
      "0.0024161751868572168\n",
      "0.0024161751868572168\n",
      "0.0024161751868572168\n",
      "0.0024161751868572168\n",
      "0.0024161751868572168\n",
      "0.0024161751868572168\n",
      "0.0024161751868572168\n",
      "0.0024161751868572168\n",
      "0.0024161751868572168\n",
      "0.0024161751868572168\n",
      "0.0024161751868572168\n",
      "0.0024161751868572168\n",
      "0.0024161751868572168\n",
      "0.0024161751868572168\n",
      "0.0024161751868572168\n",
      "0.0024161751868572168\n"
     ]
    },
    {
     "ename": "KeyboardInterrupt",
     "evalue": "",
     "output_type": "error",
     "traceback": [
      "\u001b[1;31m---------------------------------------------------------------------------\u001b[0m",
      "\u001b[1;31mKeyboardInterrupt\u001b[0m                         Traceback (most recent call last)",
      "Input \u001b[1;32mIn [220]\u001b[0m, in \u001b[0;36m<cell line: 8>\u001b[1;34m()\u001b[0m\n\u001b[0;32m      9\u001b[0m InputVoltagesHone1\u001b[38;5;241m.\u001b[39mappend(voltage)\n\u001b[0;32m     10\u001b[0m myDAC\u001b[38;5;241m.\u001b[39mwriteVoltage(voltage)\n\u001b[1;32m---> 11\u001b[0m \u001b[43mtime\u001b[49m\u001b[38;5;241;43m.\u001b[39;49m\u001b[43msleep\u001b[49m\u001b[43m(\u001b[49m\u001b[38;5;241;43m3\u001b[39;49m\u001b[43m)\u001b[49m\n\u001b[0;32m     12\u001b[0m val \u001b[38;5;241m=\u001b[39m myADC\u001b[38;5;241m.\u001b[39mreadVoltage()\n\u001b[0;32m     13\u001b[0m \u001b[38;5;28mprint\u001b[39m(val)\n",
      "\u001b[1;31mKeyboardInterrupt\u001b[0m: "
     ]
    }
   ],
   "source": [
    "#Iron Rod first resosnace\n",
    "\n",
    "InputVoltagesHone1 = []\n",
    "OutputVoltagesHone1 = []\n",
    "\n",
    "voltage = 1\n",
    "\n",
    "while  voltage < 2.6:\n",
    "    InputVoltagesHone1.append(voltage)\n",
    "    myDAC.writeVoltage(voltage)\n",
    "    time.sleep(3)\n",
    "    val = myADC.readVoltage()\n",
    "    print(val)\n",
    "    OutputVoltagesHone1.append(val)\n",
    "    voltage += 0.05\n",
    "\n",
    "#DriverFrequenciesHone1 = [255.89, 259.22, 262.42, 265.63, 268.84, 269.16, 272.26, 275.47, 278.63, 281.74, 284.99, 288.26, 291.38, 294.62, 297.82, 301.01, 304.24, 307.57, 310.81, 314.13, 317.48, 320.73]"
   ]
  },
  {
   "cell_type": "code",
   "execution_count": 199,
   "id": "7a3cf874",
   "metadata": {},
   "outputs": [
    {
     "name": "stdout",
     "output_type": "stream",
     "text": [
      "0.0075145369710387655\n",
      "0.0024161751868572168\n",
      "0.0024161751868572168\n",
      "0.0024161751868572168\n",
      "1.0016950848865278\n",
      "0.0839899637337691\n",
      "0.022809622323585188\n",
      "0.012612898755220314\n",
      "0.0075145369710387655\n",
      "0.0075145369710387655\n",
      "0.0075145369710387655\n",
      "0.0024161751868572168\n",
      "0.0024161751868572168\n",
      "0.0024161751868572168\n",
      "0.0024161751868572168\n",
      "0.0024161751868572168\n",
      "0.0024161751868572168\n",
      "0.0024161751868572168\n",
      "0.0024161751868572168\n",
      "0.0024161751868572168\n",
      "0.0024161751868572168\n",
      "0.0024161751868572168\n",
      "0.0024161751868572168\n",
      "0.0024161751868572168\n",
      "0.0024161751868572168\n",
      "0.0024161751868572168\n",
      "0.0024161751868572168\n"
     ]
    }
   ],
   "source": [
    "#Iron Rod first resonance\n",
    "\n",
    "InputVoltagesHone2 = []\n",
    "OutputVoltagesHone2 = []\n",
    "\n",
    "voltage = 1.37\n",
    "\n",
    "while voltage < 1.5:\n",
    "    InputVoltagesHone2.append(voltage)\n",
    "    myDAC.writeVoltage(voltage)\n",
    "    time.sleep(3)\n",
    "    val = myADC.readVoltage()\n",
    "    print(val)\n",
    "    OutputVoltagesHone2.append(val)\n",
    "    voltage += 0.005\n",
    "\n",
    "DriverFrequenciesHone2 = [87.81, 88.15, 88.43, 88.73, 89.06, 89.35, 89.68, 89.97, 90.31, 90.61, 91.03, 91.31, 91.64, 91.95, 92.25, 92.56, 92.89, 93.22, 93.53, 93.81, 94.13, 94.45, 94.77, 95.07 ,95.37, 95.77, 96.10]   \n",
    "\n",
    "header = \"@150degrees Driver Frequency Hone2, Input Voltage, Output Voltage\"\n",
    "np.savetxt(\"150degIronDataHone2-1\", np.column_stack([DriverFrequenciesHone2, InputVoltagesHone2, OutputVoltagesHone2]), header=header)"
   ]
  },
  {
   "cell_type": "code",
   "execution_count": 202,
   "id": "82d2dbb1",
   "metadata": {},
   "outputs": [
    {
     "name": "stdout",
     "output_type": "stream",
     "text": [
      "0.0024161751868572168\n",
      "0.0024161751868572168\n",
      "0.0024161751868572168\n",
      "0.0024161751868572168\n",
      "0.0024161751868572168\n",
      "0.0024161751868572168\n",
      "0.0024161751868572168\n",
      "0.0024161751868572168\n",
      "0.4051867561372351\n",
      "0.517350715389238\n",
      "1.0322852555916207\n",
      "0.6397113982096059\n",
      "0.32871132937450476\n",
      "0.16046539049649944\n",
      "0.1298752197914066\n",
      "0.033006345891948285\n",
      "0.01771126053940364\n",
      "0.0075145369710387655\n",
      "0.0075145369710387655\n",
      "0.0075145369710387655\n",
      "0.0075145369710387655\n",
      "0.0024161751868572168\n",
      "0.0075145369710387655\n",
      "0.0024161751868572168\n",
      "0.0024161751868572168\n",
      "0.0024161751868572168\n",
      "0.0024161751868572168\n",
      "0.0024161751868572168\n",
      "0.0024161751868572168\n",
      "0.0024161751868572168\n",
      "0.0024161751868572168\n"
     ]
    }
   ],
   "source": [
    "#Iron Rod first resonance\n",
    "\n",
    "InputVoltagesHone2 = []\n",
    "OutputVoltagesHone2 = []\n",
    "\n",
    "voltage = 1.38\n",
    "\n",
    "while voltage < 1.41:\n",
    "    InputVoltagesHone2.append(voltage)\n",
    "    myDAC.writeVoltage(voltage)\n",
    "    time.sleep(3)\n",
    "    val = myADC.readVoltage()\n",
    "    print(val)\n",
    "    OutputVoltagesHone2.append(val)\n",
    "    voltage += 0.001\n",
    "\n",
    "#DriverFrequenciesHone2 = [87.81, 88.15, 88.43, 88.73, 89.06, 89.35, 89.68, 89.97, 90.31, 90.61, 91.03, 91.31, 91.64, 91.95, 92.25, 92.56, 92.89, 93.22, 93.53, 93.81, 94.13, 94.45, 94.77, 95.07 ,95.37, 95.77, 96.10]   \n",
    "\n",
    "#header = \"@150degrees Driver Frequency Hone2, Input Voltage, Output Voltage\"\n",
    "np.savetxt(\"150degIronDataHone3\", np.column_stack([InputVoltagesHone2, OutputVoltagesHone2]), header=header)"
   ]
  },
  {
   "cell_type": "code",
   "execution_count": 207,
   "id": "0064ed1d",
   "metadata": {},
   "outputs": [
    {
     "name": "stdout",
     "output_type": "stream",
     "text": [
      "0.0075145369710387655\n",
      "0.0075145369710387655\n",
      "0.0075145369710387655\n",
      "0.06359651659704113\n",
      "0.15026866692813456\n",
      "0.03810470767613161\n",
      "0.01771126053940364\n",
      "0.012612898755220314\n",
      "0.0075145369710387655\n",
      "0.0075145369710387655\n",
      "0.0075145369710387655\n",
      "0.0075145369710387655\n",
      "0.0024161751868572168\n",
      "0.0024161751868572168\n",
      "0.0024161751868572168\n",
      "0.0024161751868572168\n",
      "0.0024161751868572168\n"
     ]
    },
    {
     "ename": "KeyboardInterrupt",
     "evalue": "",
     "output_type": "error",
     "traceback": [
      "\u001b[1;31m---------------------------------------------------------------------------\u001b[0m",
      "\u001b[1;31mKeyboardInterrupt\u001b[0m                         Traceback (most recent call last)",
      "Input \u001b[1;32mIn [207]\u001b[0m, in \u001b[0;36m<cell line: 8>\u001b[1;34m()\u001b[0m\n\u001b[0;32m      9\u001b[0m InputVoltagesHone1\u001b[38;5;241m.\u001b[39mappend(voltage)\n\u001b[0;32m     10\u001b[0m myDAC\u001b[38;5;241m.\u001b[39mwriteVoltage(voltage)\n\u001b[1;32m---> 11\u001b[0m \u001b[43mtime\u001b[49m\u001b[38;5;241;43m.\u001b[39;49m\u001b[43msleep\u001b[49m\u001b[43m(\u001b[49m\u001b[38;5;241;43m2\u001b[39;49m\u001b[43m)\u001b[49m\n\u001b[0;32m     12\u001b[0m val \u001b[38;5;241m=\u001b[39m myADC\u001b[38;5;241m.\u001b[39mreadVoltage()\n\u001b[0;32m     13\u001b[0m \u001b[38;5;28mprint\u001b[39m(val)\n",
      "\u001b[1;31mKeyboardInterrupt\u001b[0m: "
     ]
    }
   ],
   "source": [
    "#Iron Rod second resosnace\n",
    "\n",
    "InputVoltagesHone1 = []\n",
    "OutputVoltagesHone1 = []\n",
    "\n",
    "voltage = 4\n",
    "\n",
    "while  voltage < 5:\n",
    "    InputVoltagesHone1.append(voltage)\n",
    "    myDAC.writeVoltage(voltage)\n",
    "    time.sleep(2)\n",
    "    val = myADC.readVoltage()\n",
    "    print(val)\n",
    "    OutputVoltagesHone1.append(val)\n",
    "    voltage += 0.05"
   ]
  },
  {
   "cell_type": "code",
   "execution_count": 209,
   "id": "3e370f3d",
   "metadata": {
    "scrolled": true
   },
   "outputs": [
    {
     "name": "stdout",
     "output_type": "stream",
     "text": [
      "4.1\n",
      "4.109999999999999\n",
      "4.119999999999999\n",
      "4.129999999999999\n",
      "4.139999999999999\n",
      "4.149999999999999\n",
      "4.159999999999998\n",
      "4.169999999999998\n",
      "4.179999999999998\n",
      "4.189999999999998\n",
      "4.1999999999999975\n",
      "4.209999999999997\n",
      "4.219999999999997\n",
      "4.229999999999997\n",
      "4.239999999999997\n",
      "4.2499999999999964\n"
     ]
    },
    {
     "ename": "KeyboardInterrupt",
     "evalue": "",
     "output_type": "error",
     "traceback": [
      "\u001b[1;31m---------------------------------------------------------------------------\u001b[0m",
      "\u001b[1;31mKeyboardInterrupt\u001b[0m                         Traceback (most recent call last)",
      "Input \u001b[1;32mIn [209]\u001b[0m, in \u001b[0;36m<cell line: 4>\u001b[1;34m()\u001b[0m\n\u001b[0;32m      6\u001b[0m     InputVoltagesHone2\u001b[38;5;241m.\u001b[39mappend(voltage)\n\u001b[0;32m      7\u001b[0m     myDAC\u001b[38;5;241m.\u001b[39mwriteVoltage(voltage)\n\u001b[1;32m----> 8\u001b[0m     \u001b[43mtime\u001b[49m\u001b[38;5;241;43m.\u001b[39;49m\u001b[43msleep\u001b[49m\u001b[43m(\u001b[49m\u001b[38;5;241;43m6\u001b[39;49m\u001b[43m)\u001b[49m\n\u001b[0;32m      9\u001b[0m     voltage \u001b[38;5;241m+\u001b[39m\u001b[38;5;241m=\u001b[39m \u001b[38;5;241m0.01\u001b[39m\n\u001b[0;32m     11\u001b[0m DriverFrequenciesHone2 \u001b[38;5;241m=\u001b[39m [\u001b[38;5;241m262.33\u001b[39m, \u001b[38;5;241m263.05\u001b[39m, \u001b[38;5;241m267.47\u001b[39m, \u001b[38;5;241m268.11\u001b[39m, \u001b[38;5;241m268.7\u001b[39m, \u001b[38;5;241m269.33\u001b[39m, \u001b[38;5;241m269.98\u001b[39m, \u001b[38;5;241m271.02\u001b[39m, \u001b[38;5;241m271.21\u001b[39m, \u001b[38;5;241m271.84\u001b[39m, \u001b[38;5;241m272.52\u001b[39m, \u001b[38;5;241m273.17\u001b[39m, \u001b[38;5;241m273.79\u001b[39m, \u001b[38;5;241m274.39\u001b[39m, \u001b[38;5;241m2756.02\u001b[39m, \u001b[38;5;241m275.62\u001b[39m, \u001b[38;5;241m276.22\u001b[39m, \u001b[38;5;241m276.84\u001b[39m, \u001b[38;5;241m277.52\u001b[39m, \u001b[38;5;241m278.18\u001b[39m]\n",
      "\u001b[1;31mKeyboardInterrupt\u001b[0m: "
     ]
    }
   ],
   "source": [
    "voltage = 4.1\n",
    "InputVoltagesHone2 = []\n",
    "\n",
    "while voltage < 4.35:\n",
    "    print(voltage)\n",
    "    InputVoltagesHone2.append(voltage)\n",
    "    myDAC.writeVoltage(voltage)\n",
    "    time.sleep(6)\n",
    "    voltage += 0.01\n",
    "    \n",
    "DriverFrequenciesHone2 = [262.33, 263.05, 263.71, 264.33, 264.896, 265.56, 266.18, 266.85, 267.47, 268.11, 268.78, 269.33, 269.98, 271.02, 271.21, 271.84, 272.52, 273.17, 273.79, 274.39, 2756.02, 275.62, 276.22, 276.84, 277.52, 278.18]"
   ]
  },
  {
   "cell_type": "code",
   "execution_count": 210,
   "id": "167c38d8",
   "metadata": {
    "scrolled": true
   },
   "outputs": [
    {
     "name": "stdout",
     "output_type": "stream",
     "text": [
      "0.0024161751868572168\n",
      "0.0024161751868572168\n",
      "0.0024161751868572168\n",
      "0.0024161751868572168\n",
      "0.0024161751868572168\n",
      "0.0024161751868572168\n",
      "0.06869487838122268\n",
      "0.6346130364254243\n",
      "3.056334883911873\n",
      "1.7256624582403717\n",
      "0.787563889950885\n",
      "0.3796949472163238\n",
      "0.1553670287123161\n",
      "0.022809622323585188\n",
      "0.0075145369710387655\n",
      "0.0075145369710387655\n",
      "0.0024161751868572168\n",
      "0.0075145369710387655\n",
      "0.0024161751868572168\n",
      "0.0024161751868572168\n",
      "0.0024161751868572168\n",
      "0.0024161751868572168\n",
      "0.0024161751868572168\n",
      "0.0024161751868572168\n",
      "0.0024161751868572168\n",
      "0.0024161751868572168\n"
     ]
    }
   ],
   "source": [
    "#Iron Rod\n",
    "\n",
    "InputVoltagesHone2 = []\n",
    "OutputVoltagesHone2 = []\n",
    "\n",
    "voltage = 4.1\n",
    "\n",
    "while voltage < 4.35:\n",
    "    InputVoltagesHone2.append(voltage)\n",
    "    myDAC.writeVoltage(voltage)\n",
    "    time.sleep(6)\n",
    "    val = myADC.readVoltage()\n",
    "    print(val)\n",
    "    OutputVoltagesHone2.append(val)\n",
    "    voltage += 0.01\n",
    "\n",
    "DriverFrequenciesHone2 = [262.33, 263.05, 263.71, 264.33, 264.89, 265.56, 266.18, 266.85, 267.47, 268.11, 268.78, 269.33, 269.98, 271.02, 271.21, 271.84, 272.52, 273.17, 273.79, 274.39, 275.02, 275.62, 276.22, 276.84, 277.52, 278.18]\n",
    "#DriverFrequenciesHone2 4.15 = [265.45, 266.09, 266.71, 267.47, 268.11, 268.7, 269.33, 269.98, 271.02, 271.21, 271.84, 272.52, 273.17, 273.79, 274.39, 275.02, 275.62, 276.22, 276.84, 277.52, 278.18]\n",
    "#DriverFrequenciesHone2 starting at 4.18 = [267.47, 268.11, 268.7, 269.33, 269.98, 271.02, 271.21, 271.84, 272.52, 273.17, 273.79, 274.39, 2756.02, 275.62, 276.22, 276.84, 277.52, 278.18]\n",
    "\n",
    "header = \"@150degrees Driver Frequency Hone2, Input Voltage, Output Voltage\"\n",
    "np.savetxt(\"150degIronDataHone2\", np.column_stack([DriverFrequenciesHone2, InputVoltagesHone2, OutputVoltagesHone2]), header=header)"
   ]
  },
  {
   "cell_type": "markdown",
   "id": "e4831dfe",
   "metadata": {},
   "source": [
    "## Brass Rod"
   ]
  },
  {
   "cell_type": "code",
   "execution_count": 235,
   "id": "e1b97c7b",
   "metadata": {},
   "outputs": [
    {
     "name": "stdout",
     "output_type": "stream",
     "text": [
      "0.0024161751868572168\n",
      "0.0024161751868572168\n",
      "0.0024161751868572168\n",
      "0.0024161751868572168\n",
      "0.0024161751868572168\n",
      "0.0024161751868572168\n",
      "0.0024161751868572168\n",
      "-0.0026821865973261083\n",
      "0.0024161751868572168\n",
      "0.0024161751868572168\n",
      "0.0024161751868572168\n",
      "0.0024161751868572168\n",
      "0.0024161751868572168\n",
      "0.0024161751868572168\n",
      "0.0024161751868572168\n",
      "0.0024161751868572168\n",
      "0.0075145369710387655\n",
      "0.0075145369710387655\n",
      "0.0024161751868572168\n",
      "0.0024161751868572168\n",
      "0.0075145369710387655\n",
      "0.0024161751868572168\n",
      "0.0024161751868572168\n",
      "0.0024161751868572168\n",
      "0.0075145369710387655\n"
     ]
    }
   ],
   "source": [
    "#Iron Rod first resosnace\n",
    "\n",
    "InputVoltagesHone1 = []\n",
    "OutputVoltagesHone1 = []\n",
    "\n",
    "voltage = 0\n",
    "\n",
    "while  voltage < 5:\n",
    "    InputVoltagesHone1.append(voltage)\n",
    "    myDAC.writeVoltage(voltage)\n",
    "    time.sleep(1)\n",
    "    val = myADC.readVoltage()\n",
    "    print(val)\n",
    "    OutputVoltagesHone1.append(val)\n",
    "    voltage += 0.2"
   ]
  },
  {
   "cell_type": "code",
   "execution_count": 255,
   "id": "8784444e",
   "metadata": {
    "scrolled": true
   },
   "outputs": [
    {
     "name": "stdout",
     "output_type": "stream",
     "text": [
      "0.0024161751868572168\n",
      "0.0024161751868572168\n",
      "0.0024161751868572168\n",
      "0.0024161751868572168\n",
      "-0.007780548381507657\n",
      "0.0024161751868572168\n",
      "0.0024161751868572168\n",
      "0.0024161751868572168\n",
      "0.07379324016540423\n",
      "0.578531056799422\n",
      "2.9237774775231404\n",
      "0.30321952045359524\n",
      "0.1298752197914066\n",
      "0.04830143124449471\n",
      "0.027907984107766737\n",
      "0.022809622323585188\n",
      "0.01771126053940364\n",
      "0.012612898755220314\n",
      "0.012612898755220314\n",
      "0.012612898755220314\n",
      "0.0075145369710387655\n"
     ]
    }
   ],
   "source": [
    "#Silver and Iron Rod\n",
    "\n",
    "InputVoltages = []\n",
    "OutputVoltages = []\n",
    "\n",
    "voltage = 2.6\n",
    "\n",
    "while voltage < 3.1:\n",
    "    InputVoltages.append(voltage)\n",
    "    myDAC.writeVoltage(voltage)\n",
    "    time.sleep(1)\n",
    "    val = myADC.readVoltage()\n",
    "    print(val)\n",
    "    OutputVoltages.append(val)\n",
    "    voltage += 0.025"
   ]
  },
  {
   "cell_type": "code",
   "execution_count": 253,
   "id": "8e5feb09",
   "metadata": {},
   "outputs": [],
   "source": [
    "header = \"@150degrees Input Voltage, Output Voltage\"\n",
    "np.savetxt(\"150degIronDataHone2\", np.column_stack([InputVoltages, OutputVoltages]), header=header)"
   ]
  },
  {
   "cell_type": "code",
   "execution_count": 213,
   "id": "01743fc1",
   "metadata": {},
   "outputs": [
    {
     "data": {
      "image/png": "[encoded data removed]",
      "text/plain": [
       "<Figure size 432x288 with 1 Axes>"
      ]
     },
     "metadata": {
      "needs_background": "light"
     },
     "output_type": "display_data"
    }
   ],
   "source": [
    "plt.plot(DriverFrequenciesHone2, OutputVoltagesHone2, \".\")\n",
    "plt.show()"
   ]
  },
  {
   "cell_type": "code",
   "execution_count": 254,
   "id": "bfcf9d71",
   "metadata": {},
   "outputs": [],
   "source": [
    "myDAC.writeVoltage(0)"
   ]
  },
  {
   "cell_type": "code",
   "execution_count": null,
   "id": "c75ed430",
   "metadata": {
    "scrolled": true
   },
   "outputs": [],
   "source": [
    "val = myADC.readVoltage()\n",
    "print(val)"
   ]
  }
 ],
 "metadata": {
  "kernelspec": {
   "display_name": "Python 3 (ipykernel)",
   "language": "python",
   "name": "python3"
  },
  "language_info": {
   "codemirror_mode": {
    "name": "ipython",
    "version": 3
   },
   "file_extension": ".py",
   "mimetype": "text/x-python",
   "name": "python",
   "nbconvert_exporter": "python",
   "pygments_lexer": "ipython3",
   "version": "3.9.12"
  }
 },
 "nbformat": 4,
 "nbformat_minor": 5
}
