{
 "cells": [
  {
   "cell_type": "code",
   "execution_count": null,
   "metadata": {},
   "outputs": [],
   "source": [
    "from pydaqmx_helper.adc import ADC\n",
    "from pydaqmx_helper.dac import DAC\n",
    "import matplotlib.pyplot as plt\n",
    "import numpy as np\n",
    "import time"
   ]
  },
  {
   "cell_type": "code",
   "execution_count": null,
   "metadata": {},
   "outputs": [],
   "source": [
    "InputVoltages = []\n",
    "OutputVoltages = []\n",
    "\n",
    "voltage = 0\n",
    "\n",
    "while voltage < 5:\n",
    "    InputVoltages.append(voltage)\n",
    "    myDAC.writeVoltage(voltage)\n",
    "    time.sleep(0.5)\n",
    "    val = myADC.readVoltage()\n",
    "    print(val)\n",
    "    OutputVoltages.append(val)\n",
    "    voltage += 0.2\n",
    "\n",
    "DriverFrequencies = []\n",
    "\n",
    "header = \"@90degrees Driver Frequency, Input Voltage, Output Voltage\"\n",
    "np.savetxt(\"90degIronData\", np.column_stack([DriverFrequencies, InputVoltages, OutputVoltages]), header=header)"
   ]
  }
 ],
 "metadata": {
  "kernelspec": {
   "display_name": "Python 3",
   "language": "python",
   "name": "python3"
  },
  "language_info": {
   "name": "python",
   "version": "3.11.9"
  }
 },
 "nbformat": 4,
 "nbformat_minor": 2
}
