{
 "cells": [
  {
   "cell_type": "markdown",
   "metadata": {},
   "source": [
    "# Sympy Derivatives"
   ]
  },
  {
   "cell_type": "code",
   "execution_count": 1,
   "metadata": {},
   "outputs": [],
   "source": [
    "import sympy as sp\n",
    "import numpy as np"
   ]
  },
  {
   "cell_type": "code",
   "execution_count": 2,
   "metadata": {},
   "outputs": [
    {
     "name": "stdout",
     "output_type": "stream",
     "text": [
      "0.5*r**2\n",
      "1.0*m*r\n"
     ]
    }
   ],
   "source": [
    "\n",
    "# Calculations for the MOI Error\n",
    "\n",
    "m, r = sp.symbols('m r')\n",
    "MOI = (1/2) * m * (r ** 2)\n",
    "dfdm = sp.diff(MOI, m)\n",
    "dfdr = sp.diff(MOI, r)\n",
    "\n",
    "print(dfdm)\n",
    "print(dfdr)"
   ]
  },
  {
   "cell_type": "code",
   "execution_count": 3,
   "metadata": {},
   "outputs": [
    {
     "name": "stdout",
     "output_type": "stream",
     "text": [
      "0.636619772367581*l*w0**2/r**4\n",
      "0.636619772367581*I*w0**2/r**4\n",
      "1.27323954473516*I*l*w0/r**4\n",
      "-2.54647908947033*I*l*w0**2/r**5\n"
     ]
    }
   ],
   "source": [
    "# Calculations of the derivatives for the MORG Error\n",
    "\n",
    "I, l, w0, r = sp.symbols('I l w0 r')\n",
    "function = (2*I*l*(w0 ** 2)) / (np.pi * (r ** 4))\n",
    "dGdI = sp.diff(function, I)\n",
    "print(dGdI)\n",
    "dGdl = sp.diff(function, l)\n",
    "print(dGdl)\n",
    "dGdw0 = sp.diff(function, w0)\n",
    "print(dGdw0)\n",
    "dGdr = sp.diff(function, r)\n",
    "print(dGdr)"
   ]
  },
  {
   "cell_type": "code",
   "execution_count": 4,
   "metadata": {},
   "outputs": [
    {
     "name": "stdout",
     "output_type": "stream",
     "text": [
      "-1.73205080756888*w0/deltaw**2\n",
      "1.73205080756888/deltaw\n"
     ]
    }
   ],
   "source": [
    "# Calculations of the Drivatives for the IFQ Error function:\n",
    "\n",
    "deltaw, w0 = sp.symbols('deltaw w0')\n",
    "function =  (np.sqrt(3) * w0) / deltaw\n",
    "\n",
    "dQddeltaw = sp.diff(function, deltaw)\n",
    "print(dQddeltaw)\n",
    "dQdw0 = sp.diff(function, w0)\n",
    "print(dQdw0)"
   ]
  }
 ],
 "metadata": {
  "kernelspec": {
   "display_name": "Python 3",
   "language": "python",
   "name": "python3"
  },
  "language_info": {
   "codemirror_mode": {
    "name": "ipython",
    "version": 3
   },
   "file_extension": ".py",
   "mimetype": "text/x-python",
   "name": "python",
   "nbconvert_exporter": "python",
   "pygments_lexer": "ipython3",
   "version": "3.12.4"
  }
 },
 "nbformat": 4,
 "nbformat_minor": 2
}
