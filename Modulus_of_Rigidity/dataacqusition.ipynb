{
 "cells": [
  {
   "cell_type": "markdown",
   "id": "421fcd85",
   "metadata": {},
   "source": [
    "# Data Acquisition Code"
   ]
  },
  {
   "cell_type": "code",
   "execution_count": null,
   "id": "4751cf79",
   "metadata": {},
   "outputs": [],
   "source": [
    "from pydaqmx_helper.adc import ADC\n",
    "from pydaqmx_helper.dac import DAC\n",
    "import matplotlib.pyplot as plt\n",
    "import numpy as np\n",
    "import time"
   ]
  },
  {
   "cell_type": "code",
   "execution_count": null,
   "id": "93a1a0b2",
   "metadata": {},
   "outputs": [],
   "source": [
    "myADC = ADC()\n",
    "myDAC = DAC(1)\n",
    "myADC.addChannels([0], ADC_mode = \"DAQmx_Val_Diff\", minRange = -5.0, maxRange=5.0)"
   ]
  },
  {
   "cell_type": "markdown",
   "id": "d048076c",
   "metadata": {},
   "source": [
    "## Aluminium Rod"
   ]
  },
  {
   "cell_type": "code",
   "execution_count": null,
   "id": "519c7a89",
   "metadata": {
    "scrolled": true
   },
   "outputs": [],
   "source": [
    "InputVoltages = []\n",
    "OutputVoltages = []\n",
    "\n",
    "voltage = 0\n",
    "\n",
    "while voltage < 5:\n",
    "    InputVoltages.append(voltage)\n",
    "    myDAC.writeVoltage(voltage)\n",
    "    time.sleep(0.5)\n",
    "    val = myADC.readVoltage()\n",
    "    print(val)\n",
    "    OutputVoltages.append(val)\n",
    "    voltage += 0.2\n",
    "\n",
    "DriverFrequencies = [0, 13.5, 26.35, 39.0, 51.70, 64.45, 77.23, 89.99, 102.65, 115.17, 127.86, 140.64, 153.56, 165.50, 179.42, 192.36, 205.15,217.74, 230.42, 243.14, 256.09, 269.01, 281.62, 294.42, 307.44]\n",
    "\n",
    "header = \"@90degrees Driver Frequency, Input Voltage, Output Voltage\"\n",
    "np.savetxt(\"90degIronData\", np.column_stack([DriverFrequencies, InputVoltages, OutputVoltages]), header=header)"
   ]
  },
  {
   "cell_type": "code",
   "execution_count": null,
   "id": "36e39710",
   "metadata": {},
   "outputs": [],
   "source": [
    "InputVoltagesHone1 = []\n",
    "OutputVoltagesHone1 = []\n",
    "\n",
    "voltage = 2.4\n",
    "\n",
    "while  voltage < 2.9:\n",
    "    InputVoltagesHone1.append(voltage)\n",
    "    myDAC.writeVoltage(voltage)\n",
    "    time.sleep(6)\n",
    "    val = myADC.readVoltage()\n",
    "    print(val)\n",
    "    OutputVoltagesHone1.append(val)\n",
    "    voltage += 0.05\n",
    "\n",
    "DriverFrequenciesHone1 = [153.56, 156.83, 160.19, 163.28, 166.62, 169.85, 173.01, 177.25, 179.56, 182.68, 185.94]\n",
    "\n",
    "header = \"@150degrees Driver Frequency Hone1, Input Voltage, Output Voltage\"\n",
    "np.savetxt(\"150degSilverDataHone1\", np.column_stack([DriverFrequenciesHone1, InputVoltagesHone1, OutputVoltagesHone1]), header=header)"
   ]
  },
  {
   "cell_type": "code",
   "execution_count": null,
   "id": "68f7cc24",
   "metadata": {},
   "outputs": [],
   "source": [
    "InputVoltagesHone2 = []\n",
    "OutputVoltagesHone2 = []\n",
    "\n",
    "voltage = 2.5\n",
    "\n",
    "while voltage < 2.8:\n",
    "    InputVoltagesHone2.append(voltage)\n",
    "    myDAC.writeVoltage(voltage)\n",
    "    time.sleep(6)\n",
    "    val = myADC.readVoltage()\n",
    "    print(val)\n",
    "    OutputVoltagesHone2.append(val)\n",
    "    voltage += 0.01\n",
    "\n",
    "DriverFrequenciesHone2 = [159.96, 160.64, 161.22,161.89, 162.53, 163.22, 163.92, 164.63, 165.27, 166.89, 167.17, 167.80, 168.40, 169.11, 169.76, 170.45, 171.05, 171.67, 172.31, 173.03, 173.61, 174.24, 174.94, 175.55, 176.24, 176.88, 177.50, 178,14, 178.78, 179.44]    \n",
    "DriverFrequenciesHone2 = [163.22, 163.92, 164.63, 165.27, 166.89, 167.17, 167.80, 168.40, 169.11, 169.76, 170.45, 171.05, 171.67, 172.31, 173.03, 173.61, 174.24, 174.94, 175.55, 176.24, 176.88, 177.50, 178,14, 178.78, 179.44]\n",
    "\n",
    "header = \"@150degrees Driver Frequency Hone2, Input Voltage, Output Voltage\"\n",
    "np.savetxt(\"150degSilverDataHone2\", np.column_stack([DriverFrequenciesHone2, InputVoltagesHone2, OutputVoltagesHone2]), header=header)"
   ]
  },
  {
   "cell_type": "markdown",
   "id": "3d3adae4",
   "metadata": {},
   "source": [
    "## Steel Rod"
   ]
  },
  {
   "cell_type": "code",
   "execution_count": null,
   "id": "cc7907d9",
   "metadata": {},
   "outputs": [],
   "source": [
    "InputVoltages = []\n",
    "OutputVoltages = []\n",
    "\n",
    "voltage = 0\n",
    "\n",
    "while voltage < 5:\n",
    "    InputVoltages.append(voltage)\n",
    "    myDAC.writeVoltage(voltage)\n",
    "    time.sleep(1.5)\n",
    "    val = myADC.readVoltage()\n",
    "    print(val)\n",
    "    OutputVoltages.append(val)\n",
    "    voltage += 0.2\n",
    "\n",
    "DriverFrequencies = [0, 13.5, 26.35, 39.0, 51.70, 64.45, 77.23, 89.99, 102.65, 115.17, 127.86, 140.64, 153.56, 165.50, 179.42, 192.36, 205.15,217.74, 230.42, 243.14, 256.09, 269.01, 281.62, 294.42, 307.44]\n",
    "\n",
    "header = \"@90degrees Driver Frequency, Input Voltage, Output Voltage\"\n",
    "np.savetxt(\"90degIronData\", np.column_stack([DriverFrequencies, InputVoltages, OutputVoltages]), header=header)"
   ]
  },
  {
   "cell_type": "code",
   "execution_count": null,
   "id": "c7f740b1",
   "metadata": {},
   "outputs": [],
   "source": [
    "#Iron Rod first resosnace\n",
    "\n",
    "InputVoltagesHone1 = []\n",
    "OutputVoltagesHone1 = []\n",
    "\n",
    "voltage = 1\n",
    "\n",
    "while  voltage < 2.6:\n",
    "    InputVoltagesHone1.append(voltage)\n",
    "    myDAC.writeVoltage(voltage)\n",
    "    time.sleep(3)\n",
    "    val = myADC.readVoltage()\n",
    "    print(val)\n",
    "    OutputVoltagesHone1.append(val)\n",
    "    voltage += 0.05\n",
    "\n",
    "DriverFrequenciesHone1 = [255.89, 259.22, 262.42, 265.63, 268.84, 269.16, 272.26, 275.47, 278.63, 281.74, 284.99, 288.26, 291.38, 294.62, 297.82, 301.01, 304.24, 307.57, 310.81, 314.13, 317.48, 320.73]"
   ]
  },
  {
   "cell_type": "code",
   "execution_count": null,
   "id": "259e14e7",
   "metadata": {
    "scrolled": true
   },
   "outputs": [],
   "source": [
    "voltage = 4.1\n",
    "InputVoltagesHone2 = []\n",
    "\n",
    "while voltage < 4.35:\n",
    "    print(voltage)\n",
    "    InputVoltagesHone2.append(voltage)\n",
    "    myDAC.writeVoltage(voltage)\n",
    "    time.sleep(6)\n",
    "    voltage += 0.01\n",
    "    \n",
    "DriverFrequenciesHone2 = [262.33, 263.05, 263.71, 264.33, 264.896, 265.56, 266.18, 266.85, 267.47, 268.11, 268.78, 269.33, 269.98, 271.02, 271.21, 271.84, 272.52, 273.17, 273.79, 274.39, 2756.02, 275.62, 276.22, 276.84, 277.52, 278.18]"
   ]
  },
  {
   "cell_type": "code",
   "execution_count": null,
   "id": "2aada67e",
   "metadata": {
    "scrolled": true
   },
   "outputs": [],
   "source": [
    "InputVoltagesHone2 = []\n",
    "OutputVoltagesHone2 = []\n",
    "\n",
    "voltage = 4.1\n",
    "\n",
    "while voltage < 4.35:\n",
    "    InputVoltagesHone2.append(voltage)\n",
    "    myDAC.writeVoltage(voltage)\n",
    "    time.sleep(6)\n",
    "    val = myADC.readVoltage()\n",
    "    print(val)\n",
    "    OutputVoltagesHone2.append(val)\n",
    "    voltage += 0.01\n",
    "\n",
    "DriverFrequenciesHone2 = [262.33, 263.05, 263.71, 264.33, 264.89, 265.56, 266.18, 266.85, 267.47, 268.11, 268.78, 269.33, 269.98, 271.02, 271.21, 271.84, 272.52, 273.17, 273.79, 274.39, 275.02, 275.62, 276.22, 276.84, 277.52, 278.18]\n",
    "DriverFrequenciesHone2 = [265.45, 266.09, 266.71, 267.47, 268.11, 268.7, 269.33, 269.98, 271.02, 271.21, 271.84, 272.52, 273.17, 273.79, 274.39, 275.02, 275.62, 276.22, 276.84, 277.52, 278.18]\n",
    "DriverFrequenciesHone2 starting at 4.18 = [267.47, 268.11, 268.7, 269.33, 269.98, 271.02, 271.21, 271.84, 272.52, 273.17, 273.79, 274.39, 2756.02, 275.62, 276.22, 276.84, 277.52, 278.18]\n",
    "\n",
    "header = \"@150degrees Driver Frequency Hone2, Input Voltage, Output Voltage\"\n",
    "np.savetxt(\"150degIronDataHone2\", np.column_stack([DriverFrequenciesHone2, InputVoltagesHone2, OutputVoltagesHone2]), header=header)"
   ]
  },
  {
   "cell_type": "markdown",
   "id": "b8d7e52d",
   "metadata": {},
   "source": [
    "## Brass Rod"
   ]
  },
  {
   "cell_type": "code",
   "execution_count": null,
   "id": "f2c9f154",
   "metadata": {},
   "outputs": [],
   "source": [
    "InputVoltagesHone1 = []\n",
    "OutputVoltagesHone1 = []\n",
    "\n",
    "voltage = 0\n",
    "\n",
    "while  voltage < 5:\n",
    "    InputVoltagesHone1.append(voltage)\n",
    "    myDAC.writeVoltage(voltage)\n",
    "    time.sleep(1)\n",
    "    val = myADC.readVoltage()\n",
    "    print(val)\n",
    "    OutputVoltagesHone1.append(val)\n",
    "    voltage += 0.2"
   ]
  },
  {
   "cell_type": "code",
   "execution_count": null,
   "id": "65aa8cc3",
   "metadata": {
    "scrolled": true
   },
   "outputs": [],
   "source": [
    "InputVoltages = []\n",
    "OutputVoltages = []\n",
    "\n",
    "voltage = 2.75\n",
    "\n",
    "while voltage < 3.1:\n",
    "    InputVoltages.append(voltage)\n",
    "    myDAC.writeVoltage(voltage)\n",
    "    time.sleep(4)\n",
    "    val = myADC.readVoltage()\n",
    "    print(val)\n",
    "    OutputVoltages.append(val)\n",
    "    voltage += 0.0125\n",
    "    \n",
    "header = \"@30degrees Input Voltage, Output Voltage\"\n",
    "np.savetxt(\"30degBrassDataHone2\", np.column_stack([InputVoltages, OutputVoltages]), header=header)"
   ]
  },
  {
   "cell_type": "code",
   "execution_count": 258,
   "id": "ae312ca5",
   "metadata": {},
   "outputs": [],
   "source": [
    "header = \"@30degrees Input Voltage, Output Voltage\"\n",
    "np.savetxt(\"30degBrassDataHone2\", np.column_stack([InputVoltages, OutputVoltages]), header=header)"
   ]
  },
  {
   "cell_type": "code",
   "execution_count": null,
   "id": "4f103f5a",
   "metadata": {},
   "outputs": [],
   "source": [
    "plt.plot(DriverFrequenciesHone2, OutputVoltagesHone2, \".\")\n",
    "plt.show()"
   ]
  }
 ],
 "metadata": {
  "kernelspec": {
   "display_name": "Python 3",
   "language": "python",
   "name": "python3"
  },
  "language_info": {
   "codemirror_mode": {
    "name": "ipython",
    "version": 3
   },
   "file_extension": ".py",
   "mimetype": "text/x-python",
   "name": "python",
   "nbconvert_exporter": "python",
   "pygments_lexer": "ipython3",
   "version": "3.12.4"
  }
 },
 "nbformat": 4,
 "nbformat_minor": 5
}
